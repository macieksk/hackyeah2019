{
 "cells": [
  {
   "cell_type": "code",
   "execution_count": 2,
   "metadata": {},
   "outputs": [],
   "source": [
    "# imports needed and set up logging\n",
    "import gzip\n",
    "import gensim \n",
    "import logging\n",
    "import glob, os\n",
    "import math\n",
    "import numpy as np\n",
    "\n",
    "logging.basicConfig(format='%(asctime)s : %(levelname)s : %(message)s', level=logging.INFO)\n"
   ]
  },
  {
   "cell_type": "code",
   "execution_count": 3,
   "metadata": {},
   "outputs": [],
   "source": [
    "import os,sys\n",
    "sys.path.insert(0,\"/home/msykulski/workspace/genXone/hackyeah2019/jupyter_init_workspace/src/\")\n",
    "\n",
    "import multiprocmap\n",
    "from multiprocmap import parmap"
   ]
  },
  {
   "cell_type": "code",
   "execution_count": 54,
   "metadata": {},
   "outputs": [],
   "source": [
    "data_file2=[\"/mnt/servx1vol/Bams/genXone/20190914_1350_hackyeah/hackyeah_data_80/0**/*\",]"
   ]
  },
  {
   "cell_type": "code",
   "execution_count": null,
   "metadata": {},
   "outputs": [],
   "source": [
    "%%time \n",
    "\n",
    "\n",
    "def read_input(input_file_list):\n",
    "    \"\"\"This method reads the input file which is in gzip format\"\"\"\n",
    "    \n",
    "    logging.info(\"reading file {0}...this may take a while\".format(input_file_list))\n",
    "    files=[file for input_file in input_file_list for file in glob.glob(input_file)]\n",
    "    def line_generator(file):\n",
    "        with open(file, 'rb') as f:\n",
    "            #filenames.append(file)\n",
    "            for i, line in enumerate (f): \n",
    "            #if (i%10000==0):\n",
    "                #logging.info (\"read {0} reviews\".format (i))\n",
    "            # do some pre-processing and return a list of words for each review text\n",
    "                yield gensim.utils.simple_preprocess (line)\n",
    "            yield [\"GXO_EOF\",\"GXO_EOF\",\"GXO_EOF\",\"GXO_EOF\",\"GXO_EOF\"]\n",
    "    all_lines=lambda file:(file,[l for l in line_generator(file)])\n",
    "    #all_f_l=parmap(all_lines)\n",
    "    return parmap(all_lines,files)\n",
    "    \n",
    "\n",
    "all_f_l = read_input(data_file2)\n",
    "\n",
    "documents2_org = [f_l[1] for f_l in all_f_l]\n",
    "filenames_org = [f_l[0] for f_l in all_f_l]\n",
    "\n",
    "logging.info (\"Done reading data file\")    "
   ]
  },
  {
   "cell_type": "code",
   "execution_count": null,
   "metadata": {},
   "outputs": [],
   "source": [
    "print(len(filenames_org))\n",
    "documents2=[g for l in documents2_org for g in l]"
   ]
  },
  {
   "cell_type": "code",
   "execution_count": null,
   "metadata": {},
   "outputs": [],
   "source": []
  },
  {
   "cell_type": "code",
   "execution_count": null,
   "metadata": {},
   "outputs": [],
   "source": [
    "%%time\n",
    "model = gensim.models.Word2Vec (documents2, size=150, window=10, min_count=1, workers=188)\n",
    "model.train(documents2,total_examples=len(documents2),epochs=10)"
   ]
  },
  {
   "cell_type": "code",
   "execution_count": null,
   "metadata": {},
   "outputs": [],
   "source": [
    "%%time\n",
    "#model.save(\"model_1_5_gensim\")\n",
    "model = gensim.models.Word2Vec.load(\"model_1_15_gensim\")"
   ]
  },
  {
   "cell_type": "code",
   "execution_count": null,
   "metadata": {},
   "outputs": [],
   "source": []
  },
  {
   "cell_type": "code",
   "execution_count": null,
   "metadata": {},
   "outputs": [],
   "source": [
    "w1 = [\"polite\"]\n",
    "model.wv.most_similar(positive=w1,topn=10)"
   ]
  },
  {
   "cell_type": "code",
   "execution_count": null,
   "metadata": {},
   "outputs": [],
   "source": [
    "model.wv.most_similar_cosmul(positive=w1,topn=10) #using the multiplicative combination objective"
   ]
  },
  {
   "cell_type": "code",
   "execution_count": null,
   "metadata": {},
   "outputs": [],
   "source": []
  },
  {
   "cell_type": "code",
   "execution_count": 16,
   "metadata": {},
   "outputs": [],
   "source": []
  },
  {
   "cell_type": "code",
   "execution_count": null,
   "metadata": {},
   "outputs": [],
   "source": [
    "%%time\n",
    "def vectors_creator(file):\n",
    "    with open(file, 'rb') as f:\n",
    "        word_list=[]\n",
    "        vec_list=[]\n",
    "        #sum_list=np.zeros(150)\n",
    "        count=0\n",
    "        for line in f: \n",
    "            word_list+=gensim.utils.simple_preprocess(line)\n",
    "        for i in word_list:\n",
    "            count+=1\n",
    "            vec_list.append(model.wv.get_vector(i)) #vector\n",
    "\n",
    "        q1=sum(vec_list[:math.ceil(count/4)])\n",
    "        q2=sum(vec_list[math.ceil(count/4):math.ceil(count/2)])\n",
    "        q3=sum(vec_list[math.ceil(count/2):math.ceil(3*count/4)])\n",
    "        q4=sum(vec_list[math.ceil(3*count/4):])\n",
    "        q1_234=q1-(q2+q3+q4)\n",
    "        q12_34=(q1+q2)-(q3+q4)\n",
    "        q123_4=(q1+q2+q3)-q4\n",
    "        sum_vec=sum(vec_list)\n",
    "        if count==0:\n",
    "            return (file,[])\n",
    "        return (file,np.concatenate((sum_vec/count,q1_234, q12_34, q123_4)))\n",
    "    \n",
    "#files_vectors=[]\n",
    "#files=[file for file in glob.glob(data_file2)]\n",
    "files=[file for input_file in data_file2 for file in glob.glob(input_file)]\n",
    "all_f_fv=parmap(vectors_creator,files)\n",
    "\n",
    "filenames=[f_fv[0] for f_fv in all_f_fv if len(f_fv[1])>0 ]\n",
    "files_vectors=[f_fv[1] for f_fv in all_f_fv if len(f_fv[1])>0 ]\n",
    "\n",
    "#    toadd=vectors_creator(file)\n",
    "#    if len(toadd)!=0:\n",
    "#        files_vectors.append(toadd)\n",
    "\n",
    "    "
   ]
  },
  {
   "cell_type": "code",
   "execution_count": 68,
   "metadata": {},
   "outputs": [],
   "source": [
    "from copy import deepcopy\n",
    "import numpy as np\n",
    "import pandas as pd\n",
    "from matplotlib import pyplot as plt\n",
    "from sklearn.cluster import KMeans"
   ]
  },
  {
   "cell_type": "raw",
   "metadata": {},
   "source": []
  },
  {
   "cell_type": "code",
   "execution_count": null,
   "metadata": {},
   "outputs": [],
   "source": [
    "%%time\n",
    "X=np.array(files_vectors)\n",
    "P=X[1]\n",
    "#print(len(X))\n",
    "#print(len(X[1]))\n",
    "kmeans = KMeans(n_clusters=150, random_state=0).fit(X) #,n_jobs=60).fit(X)"
   ]
  },
  {
   "cell_type": "code",
   "execution_count": null,
   "metadata": {},
   "outputs": [],
   "source": [
    "centers = kmeans.cluster_centers_\n",
    "#print(kmeans.labels_)\n",
    "labels, counts = np.unique(kmeans.labels_[kmeans.labels_>=0], return_counts=True)\n",
    "df=np.c_[labels[np.argsort(-counts)[:]],counts[np.argsort(-counts)[:]]] #,np.mod(range(len(counts)),3)]\n",
    "print(df)\n",
    "#plt.scatter(centers[:, 0], centers[:, 1], c='red', s=200, alpha=0.5);\n",
    "print(len(filenames))\n",
    "print(len(kmeans.labels_))"
   ]
  },
  {
   "cell_type": "code",
   "execution_count": 89,
   "metadata": {},
   "outputs": [
    {
     "data": {
      "text/plain": [
       "Text(0.5, 0, 'Log10(cluster_size)')"
      ]
     },
     "execution_count": 89,
     "metadata": {},
     "output_type": "execute_result"
    },
    {
     "data": {
      "image/png": "[encoded data removed]",
      "text/plain": [
       "<Figure size 432x288 with 1 Axes>"
      ]
     },
     "metadata": {
      "needs_background": "light"
     },
     "output_type": "display_data"
    }
   ],
   "source": [
    "import pandas as pd\n",
    "\n",
    "# Generate data on commute times.\n",
    "size, scale = 1000, 10\n",
    "commutes = pd.Series(np.log10(df[:,1]))\n",
    "commutes.plot.hist(grid=True, bins=20, rwidth=0.9,\n",
    "                   color='#607c8e')\n",
    "plt.title('Histogram of log10(cluster_size)')\n",
    "plt.xlabel('Log10(cluster_size)')\n",
    "#plt.grid(axis='y', alpha=0.75)"
   ]
  },
  {
   "cell_type": "code",
   "execution_count": 90,
   "metadata": {},
   "outputs": [
    {
     "data": {
      "text/plain": [
       "Text(0.5, 0, 'cluster_size')"
      ]
     },
     "execution_count": 90,
     "metadata": {},
     "output_type": "execute_result"
    },
    {
     "data": {
      "image/png": "[encoded data removed]",
      "text/plain": [
       "<Figure size 432x288 with 1 Axes>"
      ]
     },
     "metadata": {
      "needs_background": "light"
     },
     "output_type": "display_data"
    }
   ],
   "source": [
    "commutes = pd.Series(df[:,1])\n",
    "commutes.plot.hist(grid=True, bins=20, rwidth=0.9,\n",
    "                   color='#607c8e')\n",
    "plt.title('Histogram of cluster_size')\n",
    "plt.xlabel('cluster_size')"
   ]
  },
  {
   "cell_type": "code",
   "execution_count": 72,
   "metadata": {},
   "outputs": [],
   "source": [
    "import pickle\n",
    "filename=\"kmeans_1_15_wo_count_division\"\n",
    "\n",
    "pickle.dump(kmeans, open(filename, 'wb'))\n",
    "\n",
    "#kmeans = pickle.load(open(filename, 'rb'))"
   ]
  },
  {
   "cell_type": "code",
   "execution_count": null,
   "metadata": {
    "scrolled": false
   },
   "outputs": [],
   "source": [
    "fset=set(np.asarray(filenames)[np.where(kmeans.labels_==10)[0].tolist()])\n",
    "#[documents2_org[i_f[0]] for i_f in enumerate(filenames_org) if i_f[1] in fset]\n",
    "[open(f).readlines() for f in fset]"
   ]
  },
  {
   "cell_type": "code",
   "execution_count": 3,
   "metadata": {},
   "outputs": [],
   "source": [
    "#centers_descr=[]\n",
    "#centers_descr.append((78,[\"code\",\"javascript\"]))"
   ]
  },
  {
   "cell_type": "code",
   "execution_count": null,
   "metadata": {},
   "outputs": [],
   "source": []
  },
  {
   "cell_type": "code",
   "execution_count": null,
   "metadata": {},
   "outputs": [],
   "source": [
    "model.save(\"model_1_15_gensim\")\n",
    "#model = gensim.models.Word2Vec.load(\"model_1_15_gensim\")"
   ]
  },
  {
   "cell_type": "code",
   "execution_count": 217,
   "metadata": {},
   "outputs": [],
   "source": [
    "import pickle\n",
    "filename=\"kmeans_1_15_wo_count_division\"\n",
    "\n",
    "pickle.dump(kmeans, open(filename, 'wb'))\n",
    "\n",
    "#kmeans = pickle.load(open(filename, 'rb'))"
   ]
  },
  {
   "cell_type": "code",
   "execution_count": null,
   "metadata": {},
   "outputs": [],
   "source": []
  }
 ],
 "metadata": {
  "kernelspec": {
   "display_name": "Python 3",
   "language": "python",
   "name": "python3"
  },
  "language_info": {
   "codemirror_mode": {
    "name": "ipython",
    "version": 3
   },
   "file_extension": ".py",
   "mimetype": "text/x-python",
   "name": "python",
   "nbconvert_exporter": "python",
   "pygments_lexer": "ipython3",
   "version": "3.7.3"
  }
 },
 "nbformat": 4,
 "nbformat_minor": 2
}
