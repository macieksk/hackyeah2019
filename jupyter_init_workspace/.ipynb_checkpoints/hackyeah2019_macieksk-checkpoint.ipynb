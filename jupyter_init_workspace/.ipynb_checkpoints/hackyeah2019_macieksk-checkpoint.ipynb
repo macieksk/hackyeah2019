{
 "cells": [
  {
   "cell_type": "code",
   "execution_count": 1,
   "metadata": {},
   "outputs": [],
   "source": [
    "%load_ext rpy2.ipython\n",
    "#https://gist.github.com/simecek/019d87c55fec3839d95bbf8489dde61d\n",
    "from jupyter_pexpect_bash_console import pexpect_bash,pexpect_sudo_bash,pexpect_ssh_sudo_bash"
   ]
  },
  {
   "cell_type": "code",
   "execution_count": 3,
   "metadata": {},
   "outputs": [
    {
     "data": {
      "text/plain": [
       "[1] \"email: 'Maciek Sykulski'<macieksk@gmail.com>\"\n",
       "[1] 0\n"
      ]
     },
     "metadata": {},
     "output_type": "display_data"
    }
   ],
   "source": [
    "%%R\n",
    "R.version.string\n",
    "print(\"email: 'Maciek Sykulski'<macieksk@gmail.com>\")\n",
    "length(ls())"
   ]
  },
  {
   "cell_type": "code",
   "execution_count": 5,
   "metadata": {},
   "outputs": [
    {
     "name": "stderr",
     "output_type": "stream",
     "text": [
      "/home/msykulski/miniconda2/envs/p3/lib/python3.5/site-packages/rpy2/rinterface/__init__.py:186: RRuntimeWarning: hash-2.2.6 provided by Decision Patterns\n",
      "\n",
      "\n",
      "  warnings.warn(x, RRuntimeWarning)\n"
     ]
    }
   ],
   "source": [
    "%%R\n",
    "projDir<-\"/home/msykulski/msykulski/workspace/zgm/aneuploidy/\"\n",
    "projectPrefix<-\"R_aneuploidy\"\n",
    "\n",
    "#\n",
    "load.sources<-function(){\n",
    "    for (f in  c(\"utils.R\" #Contains inpar, save_new_image, etc\n",
    "                 #...  \n",
    "                 ) \n",
    "        ){\n",
    "    source(paste(projDir,\"/src/\",f,sep=\"\"))\n",
    "   }\n",
    "}\n",
    "load.sources()"
   ]
  },
  {
   "cell_type": "code",
   "execution_count": 6,
   "metadata": {},
   "outputs": [
    {
     "data": {
      "text/plain": [
       "         used (Mb) gc trigger (Mb) max used (Mb)\n",
       "Ncells 297829 16.0     460000 24.6   350000 18.7\n",
       "Vcells 524628  4.1    1023718  7.9   786430  6.0\n"
      ]
     },
     "metadata": {},
     "output_type": "display_data"
    }
   ],
   "source": [
    "%%R\n",
    "#system.time(load(paste(projDir,\"/r_saved_images/\",projectPrefix,\".Rdata\",sep=\"\")))\n",
    "lsos()\n",
    "gc()"
   ]
  },
  {
   "cell_type": "code",
   "execution_count": 7,
   "metadata": {},
   "outputs": [
    {
     "data": {
      "text/plain": [
       "         used (Mb) gc trigger (Mb) max used (Mb)\n",
       "Ncells 297897 16.0     592000 31.7   350000 18.7\n",
       "Vcells 524562  4.1    1023718  7.9   786430  6.0\n"
      ]
     },
     "metadata": {},
     "output_type": "display_data"
    }
   ],
   "source": [
    "%%R\n",
    "gc()\n",
    "#system.time(save_new_image())"
   ]
  },
  {
   "cell_type": "code",
   "execution_count": 15,
   "metadata": {},
   "outputs": [
    {
     "data": {
      "text/plain": [
       "R version 3.3.1 (2016-06-21)\n",
       "Platform: x86_64-pc-linux-gnu (64-bit)\n",
       "Running under: Debian GNU/Linux 8 (jessie)\n",
       "\n",
       "locale:\n",
       " [1] LC_CTYPE=en_US.UTF-8          LC_NUMERIC=C                 \n",
       " [3] LC_TIME=en_US.UTF-8           LC_COLLATE=en_US.UTF-8       \n",
       " [5] LC_MONETARY=en_US.UTF-8       LC_MESSAGES=en_US.UTF-8      \n",
       " [7] LC_PAPER=en_US.UTF-8          LC_NAME=en_US.UTF-8          \n",
       " [9] LC_ADDRESS=en_US.UTF-8        LC_TELEPHONE=en_US.UTF-8     \n",
       "[11] LC_MEASUREMENT=en_US.UTF-8    LC_IDENTIFICATION=en_US.UTF-8\n",
       "\n",
       "attached base packages:\n",
       "[1] parallel  tools     stats     graphics  grDevices utils     datasets \n",
       "[8] methods   base     \n",
       "\n",
       "other attached packages:\n",
       " [1] matrixStats_0.51.0  reshape_0.8.6       latticeExtra_0.6-28\n",
       " [4] RColorBrewer_1.1-2  MASS_7.3-45         cluster_2.0.5      \n",
       " [7] gplots_3.0.1        ggplot2_2.1.0       lattice_0.20-34    \n",
       "[10] fastmatch_1.1-0     hash_2.2.6         \n",
       "\n",
       "loaded via a namespace (and not attached):\n",
       " [1] Rcpp_0.12.7        gtools_3.5.0       bitops_1.0-6       grid_3.3.1        \n",
       " [5] plyr_1.8.4         gtable_0.2.0       scales_0.4.0       KernSmooth_2.23-15\n",
       " [9] gdata_2.17.0       munsell_0.4.3      colorspace_1.2-7   caTools_1.17.1    \n",
       "[13] tcltk_3.3.1       \n"
      ]
     },
     "metadata": {},
     "output_type": "display_data"
    }
   ],
   "source": [
    "%%R\n",
    "library(lattice)\n",
    "library(latticeExtra)\n",
    "library(ggplot2)\n",
    "library(gplots)\n",
    "#library(png)\n",
    "\n",
    "#library(Hmisc)\n",
    "library(cluster)\n",
    "library(MASS)\n",
    "library(reshape)\n",
    "\n",
    "#library(lumi)\n",
    "#library(lumiHumanIDMapping)\n",
    "#library(lumiHumanAll.db)\n",
    "#library(limma)\n",
    "\n",
    "#library(annotate)\n",
    "#library(GOstats)\n",
    "\n",
    "#library(multtest)\n",
    "library(matrixStats)\n",
    "#library(extrafont)\n",
    "#library(enrichvs)\n",
    "#library(statmod)\n",
    "#library(flexmix)\n",
    "\n",
    "load.sources()\n",
    "\n",
    "sessionInfo()"
   ]
  },
  {
   "cell_type": "code",
   "execution_count": 5,
   "metadata": {},
   "outputs": [],
   "source": [
    "%%R \n",
    "#https://cran.r-project.org/mirrors.html\n",
    "install.packages(c(\"reshape\"), #c('repr', 'IRdisplay', 'evaluate', 'crayon', 'pbdZMQ', 'devtools', 'uuid', 'digest'),\n",
    "                 repos=\"https://mirror.ibcp.fr/pub/CRAN/\")\n",
    "#repos='https://cran.us.r-project.org')"
   ]
  },
  {
   "cell_type": "code",
   "execution_count": null,
   "metadata": {
    "collapsed": true
   },
   "outputs": [],
   "source": []
  }
 ],
 "metadata": {
  "kernelspec": {
   "display_name": "Python 3",
   "language": "python",
   "name": "python3"
  },
  "language_info": {
   "codemirror_mode": {
    "name": "ipython",
    "version": 3
   },
   "file_extension": ".py",
   "mimetype": "text/x-python",
   "name": "python",
   "nbconvert_exporter": "python",
   "pygments_lexer": "ipython3",
   "version": "3.5.4"
  }
 },
 "nbformat": 4,
 "nbformat_minor": 1
}
