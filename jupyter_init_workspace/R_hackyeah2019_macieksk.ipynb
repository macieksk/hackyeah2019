{
 "cells": [
  {
   "cell_type": "code",
   "execution_count": 1,
   "metadata": {},
   "outputs": [
    {
     "data": {
      "text/html": [
       "'R version 3.3.3 (--)'"
      ],
      "text/latex": [
       "'R version 3.3.3 (--)'"
      ],
      "text/markdown": [
       "'R version 3.3.3 (--)'"
      ],
      "text/plain": [
       "[1] \"R version 3.3.3 (--)\""
      ]
     },
     "metadata": {},
     "output_type": "display_data"
    },
    {
     "name": "stdout",
     "output_type": "stream",
     "text": [
      "[1] \"email: 'Maciek Sykulski'<macieksk@gmail.com>\"\n"
     ]
    },
    {
     "data": {
      "text/html": [
       "0"
      ],
      "text/latex": [
       "0"
      ],
      "text/markdown": [
       "0"
      ],
      "text/plain": [
       "[1] 0"
      ]
     },
     "metadata": {},
     "output_type": "display_data"
    }
   ],
   "source": [
    "R.version.string\n",
    "print(\"email: 'Maciek Sykulski'<macieksk@gmail.com>\")\n",
    "length(ls())"
   ]
  },
  {
   "cell_type": "code",
   "execution_count": 3,
   "metadata": {},
   "outputs": [],
   "source": [
    "#projDir<-\"/home/msykulski/msykulski/workspace/zgm/aneuploidy/\"\n",
    "projDir<-\"/home/msykulski/workspace/genXone/hackyeah2019/\"\n",
    "projectPrefix<-\"R_hackyeah2019\"\n",
    "\n",
    "#\n",
    "load.sources<-function(){\n",
    "    for (f in  c(\"utils.R\" #Contains inpar, save_new_image, etc\n",
    "                 #...  \n",
    "                 ) \n",
    "        ){\n",
    "    source(paste(projDir,\"/src/\",f,sep=\"\"))\n",
    "   }\n",
    "}\n",
    "load.sources()"
   ]
  },
  {
   "cell_type": "code",
   "execution_count": 3,
   "metadata": {},
   "outputs": [
    {
     "data": {
      "text/html": [
       "<table>\n",
       "<thead><tr><th></th><th scope=col>Type</th><th scope=col>Size</th><th scope=col>Rows</th><th scope=col>Columns</th></tr></thead>\n",
       "<tbody>\n",
       "\t<tr><th scope=row>cpar</th><td>function</td><td>8904    </td><td>NA      </td><td>NA      </td></tr>\n",
       "\t<tr><th scope=row>load.sources</th><td>function</td><td>8448    </td><td>NA      </td><td>NA      </td></tr>\n",
       "\t<tr><th scope=row>read.table.into.db</th><td>function</td><td>7184    </td><td>NA      </td><td>NA      </td></tr>\n",
       "\t<tr><th scope=row>db.info</th><td>function</td><td>6200    </td><td>NA      </td><td>NA      </td></tr>\n",
       "\t<tr><th scope=row>multiloop</th><td>function</td><td>5376    </td><td>NA      </td><td>NA      </td></tr>\n",
       "\t<tr><th scope=row>postscript.call</th><td>function</td><td>4856    </td><td>NA      </td><td>NA      </td></tr>\n",
       "\t<tr><th scope=row>add.records.to.table</th><td>function</td><td>4704    </td><td>NA      </td><td>NA      </td></tr>\n",
       "\t<tr><th scope=row>save_new_image</th><td>function</td><td>4544    </td><td>NA      </td><td>NA      </td></tr>\n",
       "\t<tr><th scope=row>pdf.call</th><td>function</td><td>4528    </td><td>NA      </td><td>NA      </td></tr>\n",
       "\t<tr><th scope=row>inpar</th><td>function</td><td>3952    </td><td>NA      </td><td>NA      </td></tr>\n",
       "</tbody>\n",
       "</table>\n"
      ],
      "text/latex": [
       "\\begin{tabular}{r|llll}\n",
       "  & Type & Size & Rows & Columns\\\\\n",
       "\\hline\n",
       "\tcpar & function & 8904     & NA       & NA      \\\\\n",
       "\tload.sources & function & 8448     & NA       & NA      \\\\\n",
       "\tread.table.into.db & function & 7184     & NA       & NA      \\\\\n",
       "\tdb.info & function & 6200     & NA       & NA      \\\\\n",
       "\tmultiloop & function & 5376     & NA       & NA      \\\\\n",
       "\tpostscript.call & function & 4856     & NA       & NA      \\\\\n",
       "\tadd.records.to.table & function & 4704     & NA       & NA      \\\\\n",
       "\tsave\\_new\\_image & function & 4544     & NA       & NA      \\\\\n",
       "\tpdf.call & function & 4528     & NA       & NA      \\\\\n",
       "\tinpar & function & 3952     & NA       & NA      \\\\\n",
       "\\end{tabular}\n"
      ],
      "text/markdown": [
       "\n",
       "| <!--/--> | Type | Size | Rows | Columns | \n",
       "|---|---|---|---|---|---|---|---|---|---|\n",
       "| cpar | function | 8904     | NA       | NA       | \n",
       "| load.sources | function | 8448     | NA       | NA       | \n",
       "| read.table.into.db | function | 7184     | NA       | NA       | \n",
       "| db.info | function | 6200     | NA       | NA       | \n",
       "| multiloop | function | 5376     | NA       | NA       | \n",
       "| postscript.call | function | 4856     | NA       | NA       | \n",
       "| add.records.to.table | function | 4704     | NA       | NA       | \n",
       "| save_new_image | function | 4544     | NA       | NA       | \n",
       "| pdf.call | function | 4528     | NA       | NA       | \n",
       "| inpar | function | 3952     | NA       | NA       | \n",
       "\n",
       "\n"
      ],
      "text/plain": [
       "                     Type     Size Rows Columns\n",
       "cpar                 function 8904 NA   NA     \n",
       "load.sources         function 8448 NA   NA     \n",
       "read.table.into.db   function 7184 NA   NA     \n",
       "db.info              function 6200 NA   NA     \n",
       "multiloop            function 5376 NA   NA     \n",
       "postscript.call      function 4856 NA   NA     \n",
       "add.records.to.table function 4704 NA   NA     \n",
       "save_new_image       function 4544 NA   NA     \n",
       "pdf.call             function 4528 NA   NA     \n",
       "inpar                function 3952 NA   NA     "
      ]
     },
     "metadata": {},
     "output_type": "display_data"
    },
    {
     "data": {
      "text/html": [
       "<table>\n",
       "<thead><tr><th></th><th scope=col>used</th><th scope=col>(Mb)</th><th scope=col>gc trigger</th><th scope=col>(Mb)</th><th scope=col>max used</th><th scope=col>(Mb)</th></tr></thead>\n",
       "<tbody>\n",
       "\t<tr><th scope=row>Ncells</th><td>500212 </td><td>26.8   </td><td> 940480</td><td>50.3   </td><td>678252 </td><td>36.3   </td></tr>\n",
       "\t<tr><th scope=row>Vcells</th><td>679334 </td><td> 5.2   </td><td>1308461</td><td>10.0   </td><td>861865 </td><td> 6.6   </td></tr>\n",
       "</tbody>\n",
       "</table>\n"
      ],
      "text/latex": [
       "\\begin{tabular}{r|llllll}\n",
       "  & used & (Mb) & gc trigger & (Mb) & max used & (Mb)\\\\\n",
       "\\hline\n",
       "\tNcells & 500212  & 26.8    &  940480 & 50.3    & 678252  & 36.3   \\\\\n",
       "\tVcells & 679334  &  5.2    & 1308461 & 10.0    & 861865  &  6.6   \\\\\n",
       "\\end{tabular}\n"
      ],
      "text/markdown": [
       "\n",
       "| <!--/--> | used | (Mb) | gc trigger | (Mb) | max used | (Mb) | \n",
       "|---|---|\n",
       "| Ncells | 500212  | 26.8    |  940480 | 50.3    | 678252  | 36.3    | \n",
       "| Vcells | 679334  |  5.2    | 1308461 | 10.0    | 861865  |  6.6    | \n",
       "\n",
       "\n"
      ],
      "text/plain": [
       "       used   (Mb) gc trigger (Mb) max used (Mb)\n",
       "Ncells 500212 26.8  940480    50.3 678252   36.3\n",
       "Vcells 679334  5.2 1308461    10.0 861865    6.6"
      ]
     },
     "metadata": {},
     "output_type": "display_data"
    }
   ],
   "source": [
    "#system.time(load(paste(projDir,\"/r_saved_images/\",projectPrefix,\".Rdata\",sep=\"\")))\n",
    "lsos()\n",
    "gc()"
   ]
  },
  {
   "cell_type": "code",
   "execution_count": 58,
   "metadata": {},
   "outputs": [
    {
     "data": {
      "text/html": [
       "<table>\n",
       "<caption>A matrix: 2 × 6 of type dbl</caption>\n",
       "<thead>\n",
       "\t<tr><th></th><th scope=col>used</th><th scope=col>(Mb)</th><th scope=col>gc trigger</th><th scope=col>(Mb)</th><th scope=col>max used</th><th scope=col>(Mb)</th></tr>\n",
       "</thead>\n",
       "<tbody>\n",
       "\t<tr><th scope=row>Ncells</th><td> 14926971</td><td> 797.2</td><td> 25102783</td><td>1340.7</td><td> 25102783</td><td>1340.7</td></tr>\n",
       "\t<tr><th scope=row>Vcells</th><td>134264703</td><td>1024.4</td><td>211778453</td><td>1615.8</td><td>211777762</td><td>1615.8</td></tr>\n",
       "</tbody>\n",
       "</table>\n"
      ],
      "text/latex": [
       "A matrix: 2 × 6 of type dbl\n",
       "\\begin{tabular}{r|llllll}\n",
       "  & used & (Mb) & gc trigger & (Mb) & max used & (Mb)\\\\\n",
       "\\hline\n",
       "\tNcells &  14926971 &  797.2 &  25102783 & 1340.7 &  25102783 & 1340.7\\\\\n",
       "\tVcells & 134264703 & 1024.4 & 211778453 & 1615.8 & 211777762 & 1615.8\\\\\n",
       "\\end{tabular}\n"
      ],
      "text/markdown": [
       "\n",
       "A matrix: 2 × 6 of type dbl\n",
       "\n",
       "| <!--/--> | used | (Mb) | gc trigger | (Mb) | max used | (Mb) |\n",
       "|---|---|---|---|---|---|---|\n",
       "| Ncells |  14926971 |  797.2 |  25102783 | 1340.7 |  25102783 | 1340.7 |\n",
       "| Vcells | 134264703 | 1024.4 | 211778453 | 1615.8 | 211777762 | 1615.8 |\n",
       "\n"
      ],
      "text/plain": [
       "       used      (Mb)   gc trigger (Mb)   max used  (Mb)  \n",
       "Ncells  14926971  797.2  25102783  1340.7  25102783 1340.7\n",
       "Vcells 134264703 1024.4 211778453  1615.8 211777762 1615.8"
      ]
     },
     "metadata": {},
     "output_type": "display_data"
    },
    {
     "name": "stdout",
     "output_type": "stream",
     "text": [
      "[1] \"/home/msykulski/workspace/genXone/hackyeah2019//r_saved_images/R_hackyeah2019_2019-09-14_18_30_39.Rdata\"\n"
     ]
    },
    {
     "data": {
      "text/plain": [
       "   user  system elapsed \n",
       " 44.045   0.666  44.721 "
      ]
     },
     "metadata": {},
     "output_type": "display_data"
    }
   ],
   "source": [
    "gc()\n",
    "#system.time(save_new_image())"
   ]
  },
  {
   "cell_type": "code",
   "execution_count": 7,
   "metadata": {},
   "outputs": [
    {
     "data": {
      "text/plain": [
       "R version 3.3.3 (--)\n",
       "Platform: x86_64-pc-linux-gnu (64-bit)\n",
       "Running under: Debian GNU/Linux 9 (stretch)\n",
       "\n",
       "locale:\n",
       " [1] LC_CTYPE=en_US.UTF-8       LC_NUMERIC=C              \n",
       " [3] LC_TIME=en_US.UTF-8        LC_COLLATE=en_US.UTF-8    \n",
       " [5] LC_MONETARY=en_US.UTF-8    LC_MESSAGES=en_US.UTF-8   \n",
       " [7] LC_PAPER=en_US.UTF-8       LC_NAME=C                 \n",
       " [9] LC_ADDRESS=C               LC_TELEPHONE=C            \n",
       "[11] LC_MEASUREMENT=en_US.UTF-8 LC_IDENTIFICATION=C       \n",
       "\n",
       "attached base packages:\n",
       "[1] parallel  stats     graphics  grDevices utils     datasets  methods  \n",
       "[8] base     \n",
       "\n",
       "other attached packages:\n",
       " [1] tokenizers_0.2.1   text2vec_0.5.1     matrixStats_0.55.0 Matrix_1.2-8      \n",
       " [5] reshape_0.8.8      MASS_7.3-45        cluster_2.0.5      ggplot2_3.2.1     \n",
       " [9] lattice_0.20-34    sqldf_0.4-11       RSQLite_2.1.2      gsubfn_0.7        \n",
       "[13] proto_1.0.0        fastmatch_1.1-0    hash_2.2.6.1      \n",
       "\n",
       "loaded via a namespace (and not attached):\n",
       " [1] pbdZMQ_0.3-3         mlapi_0.1.0          repr_1.0.1          \n",
       " [4] colorspace_1.4-1     vctrs_0.2.0          SnowballC_0.6.0     \n",
       " [7] htmltools_0.3.6      base64enc_0.1-3      chron_2.3-54        \n",
       "[10] blob_1.2.0           rlang_0.4.0          pillar_1.4.2        \n",
       "[13] withr_2.1.2          DBI_1.0.0            bit64_0.9-7         \n",
       "[16] lambda.r_1.2.3       uuid_0.1-2           foreach_1.4.7       \n",
       "[19] plyr_1.8.4           munsell_0.5.0        gtable_0.3.0        \n",
       "[22] futile.logger_1.4.3  codetools_0.2-15     memoise_1.1.0       \n",
       "[25] evaluate_0.14        IRdisplay_0.7.0      Rcpp_1.0.2          \n",
       "[28] formatR_1.7          scales_1.0.0         backports_1.1.4     \n",
       "[31] IRkernel_1.0.2       RcppParallel_4.4.3   jsonlite_1.6        \n",
       "[34] bit_1.1-14           digest_0.6.20        stringi_1.4.3       \n",
       "[37] grid_3.3.3           tools_3.3.3          lazyeval_0.2.2      \n",
       "[40] tibble_2.1.3         futile.options_1.0.1 crayon_1.3.4        \n",
       "[43] pkgconfig_2.0.2      zeallot_0.1.0        data.table_1.12.2   \n",
       "[46] iterators_1.0.12     R6_2.4.0            "
      ]
     },
     "metadata": {},
     "output_type": "display_data"
    }
   ],
   "source": [
    "library(lattice)\n",
    "#library(latticeExtra)\n",
    "library(ggplot2)\n",
    "#library(gplots)\n",
    "#library(png)\n",
    "\n",
    "#library(Hmisc)\n",
    "library(cluster)\n",
    "library(MASS)\n",
    "library(reshape)\n",
    "library(Matrix)\n",
    "library(matrixStats)\n",
    "library(text2vec)\n",
    "library(tokenizers)\n",
    "\n",
    "#library(lumi)\n",
    "#library(lumiHumanIDMapping)\n",
    "#library(lumiHumanAll.db)\n",
    "#library(limma)\n",
    "\n",
    "#library(annotate)\n",
    "#library(GOstats)\n",
    "\n",
    "#library(multtest)\n",
    "#library(extrafont)\n",
    "#library(enrichvs)\n",
    "#library(statmod)\n",
    "#library(flexmix)\n",
    "\n",
    "load.sources()\n",
    "\n",
    "sessionInfo()"
   ]
  },
  {
   "cell_type": "code",
   "execution_count": 238,
   "metadata": {},
   "outputs": [
    {
     "data": {
      "text/html": [
       "0.0422968019112239"
      ],
      "text/latex": [
       "0.0422968019112239"
      ],
      "text/markdown": [
       "0.0422968019112239"
      ],
      "text/plain": [
       "[1] 0.0422968"
      ]
     },
     "metadata": {},
     "output_type": "display_data"
    }
   ],
   "source": [
    "#inpar(testp, ex( mean(rnorm(1000)) ) )\n",
    "#cpar(testp)\n",
    "#testp\n",
    "#inpar(testp,ex({Sys.sleep(10); 1}))\n",
    "#cpar(testp)\n",
    "#testp\n",
    "#kill.all.jobs()"
   ]
  },
  {
   "cell_type": "code",
   "execution_count": 9,
   "metadata": {},
   "outputs": [],
   "source": [
    "data_dir<-paste0(projDir,\"/jupyter_init_workspace/hackyeah_data_80/\")\n",
    "index<-read.table(paste0(data_dir,\"INDEX\"),stringsAsFactors=FALSE)"
   ]
  },
  {
   "cell_type": "code",
   "execution_count": 13,
   "metadata": {},
   "outputs": [],
   "source": [
    "index_1<-read.table(paste0(data_dir,\"INDEX_1\"),stringsAsFactors=FALSE)\n",
    "index_3<-read.table(paste0(data_dir,\"INDEX_3\"),stringsAsFactors=FALSE)\n",
    "index_10<-read.table(paste0(data_dir,\"INDEX_10\"),stringsAsFactors=FALSE)"
   ]
  },
  {
   "cell_type": "code",
   "execution_count": 264,
   "metadata": {},
   "outputs": [],
   "source": [
    "index_f100<-read.table(paste0(data_dir,\"INDEX_F100\"),stringsAsFactors=FALSE)"
   ]
  },
  {
   "cell_type": "code",
   "execution_count": 265,
   "metadata": {},
   "outputs": [
    {
     "data": {
      "text/html": [
       "<ol class=list-inline>\n",
       "\t<li>3590318</li>\n",
       "\t<li>1</li>\n",
       "</ol>\n"
      ],
      "text/latex": [
       "\\begin{enumerate*}\n",
       "\\item 3590318\n",
       "\\item 1\n",
       "\\end{enumerate*}\n"
      ],
      "text/markdown": [
       "1. 3590318\n",
       "2. 1\n",
       "\n",
       "\n"
      ],
      "text/plain": [
       "[1] 3590318       1"
      ]
     },
     "metadata": {},
     "output_type": "display_data"
    },
    {
     "data": {
      "text/html": [
       "'./501/5011c1cf5a47be37f92eb4f8a9793642f30c34b3'"
      ],
      "text/latex": [
       "'./501/5011c1cf5a47be37f92eb4f8a9793642f30c34b3'"
      ],
      "text/markdown": [
       "'./501/5011c1cf5a47be37f92eb4f8a9793642f30c34b3'"
      ],
      "text/plain": [
       "[1] \"./501/5011c1cf5a47be37f92eb4f8a9793642f30c34b3\""
      ]
     },
     "metadata": {},
     "output_type": "display_data"
    }
   ],
   "source": [
    "dim(index)\n",
    "index[1,]"
   ]
  },
  {
   "cell_type": "code",
   "execution_count": null,
   "metadata": {},
   "outputs": [],
   "source": [
    "\n",
    "## https://cran.r-project.org/web/packages/text2vec/vignettes/glove.html\n"
   ]
  },
  {
   "cell_type": "code",
   "execution_count": 266,
   "metadata": {},
   "outputs": [
    {
     "data": {
      "text/html": [
       "70242"
      ],
      "text/latex": [
       "70242"
      ],
      "text/markdown": [
       "70242"
      ],
      "text/plain": [
       "[1] 70242"
      ]
     },
     "metadata": {},
     "output_type": "display_data"
    },
    {
     "data": {
      "text/plain": [
       "\n",
       "character \n",
       "    70242 "
      ]
     },
     "metadata": {},
     "output_type": "display_data"
    }
   ],
   "source": [
    "fset<-index_f100[,]\n",
    "flines<-mclapply(fset,function(f)try(readLines(paste0(data_dir,f),n=-1,encoding=\"UTF-8\",warn=FALSE)),mc.cores=44)\n",
    "names(flines)<-fset\n",
    "length(flines)\n",
    "table(mcmapply(class,flines))      \n",
    "flinesf100<-flines[mcmapply(class,flines,mc.cores=88)%fin%\"character\"]"
   ]
  },
  {
   "cell_type": "code",
   "execution_count": 40,
   "metadata": {},
   "outputs": [
    {
     "data": {
      "text/html": [
       "35903"
      ],
      "text/latex": [
       "35903"
      ],
      "text/markdown": [
       "35903"
      ],
      "text/plain": [
       "[1] 35903"
      ]
     },
     "metadata": {},
     "output_type": "display_data"
    },
    {
     "data": {
      "text/plain": [
       "\n",
       "character try-error \n",
       "    28736      7167 "
      ]
     },
     "metadata": {},
     "output_type": "display_data"
    }
   ],
   "source": [
    "fset<-index_1[,]\n",
    "flines<-mclapply(fset,function(f)try(readLines(paste0(data_dir,f),n=-1,encoding=\"UTF-8\",warn=FALSE)),mc.cores=44)\n",
    "names(flines)<-fset\n",
    "length(flines)\n",
    "table(mcmapply(class,flines))      \n",
    "flines1<-flines[mcmapply(class,flines,mc.cores=44)%fin%\"character\"]"
   ]
  },
  {
   "cell_type": "code",
   "execution_count": 43,
   "metadata": {},
   "outputs": [
    {
     "data": {
      "text/html": [
       "28736"
      ],
      "text/latex": [
       "28736"
      ],
      "text/markdown": [
       "28736"
      ],
      "text/plain": [
       "[1] 28736"
      ]
     },
     "metadata": {},
     "output_type": "display_data"
    },
    {
     "data": {
      "text/html": [
       "87251"
      ],
      "text/latex": [
       "87251"
      ],
      "text/markdown": [
       "87251"
      ],
      "text/plain": [
       "[1] 87251"
      ]
     },
     "metadata": {},
     "output_type": "display_data"
    }
   ],
   "source": [
    "#summary(mcmapply(class,flines,mc.cores=44)%fin%\"character\")\n",
    "length(flines1)\n",
    "length(flines3)"
   ]
  },
  {
   "cell_type": "code",
   "execution_count": null,
   "metadata": {},
   "outputs": [],
   "source": [
    "#text8_file = \"~/text8\"\n",
    "#if (!file.exists(text8_file)) {\n",
    "#  download.file(\"http://mattmahoney.net/dc/text8.zip\", \"~/text8.zip\")\n",
    "#  unzip (\"~/text8.zip\", files = \"text8\", exdir = \"~/\")\n",
    "#}\n",
    "#wiki = readLines(text8_file, n = 1, warn = FALSE)"
   ]
  },
  {
   "cell_type": "code",
   "execution_count": 267,
   "metadata": {},
   "outputs": [],
   "source": [
    "flines<-flinesf100\n",
    "#tokens<-mclapply(flines,space_tokenizer,mc.cores=88)\n",
    "tokens<-mclapply(flines,word_tokenizer,mc.cores=88)\n",
    "#space_tokenizer(flines[[2]])\n",
    "tokens_org<-tokens"
   ]
  },
  {
   "cell_type": "code",
   "execution_count": 269,
   "metadata": {},
   "outputs": [
    {
     "data": {
      "text/html": [
       "<ol>\n",
       "\t<li><ol class=list-inline>\n",
       "\t<li>'2018.06'</li>\n",
       "\t<li>'HEAD'</li>\n",
       "\t<li>'my'</li>\n",
       "\t<li>'array'</li>\n",
       "\t<li>'3,7,9,11'</li>\n",
       "\t<li>'say'</li>\n",
       "\t<li>'array'</li>\n",
       "\t<li>'0,1'</li>\n",
       "\t<li>'2'</li>\n",
       "</ol>\n",
       "</li>\n",
       "</ol>\n"
      ],
      "text/latex": [
       "\\begin{enumerate}\n",
       "\\item \\begin{enumerate*}\n",
       "\\item '2018.06'\n",
       "\\item 'HEAD'\n",
       "\\item 'my'\n",
       "\\item 'array'\n",
       "\\item '3,7,9,11'\n",
       "\\item 'say'\n",
       "\\item 'array'\n",
       "\\item '0,1'\n",
       "\\item '2'\n",
       "\\end{enumerate*}\n",
       "\n",
       "\\end{enumerate}\n"
      ],
      "text/markdown": [
       "1. 1. '2018.06'\n",
       "2. 'HEAD'\n",
       "3. 'my'\n",
       "4. 'array'\n",
       "5. '3,7,9,11'\n",
       "6. 'say'\n",
       "7. 'array'\n",
       "8. '0,1'\n",
       "9. '2'\n",
       "\n",
       "\n",
       "\n",
       "\n",
       "\n"
      ],
      "text/plain": [
       "[[1]]\n",
       "[1] \"2018.06\"  \"HEAD\"     \"my\"       \"array\"    \"3,7,9,11\" \"say\"      \"array\"   \n",
       "[8] \"0,1\"      \"2\"       \n"
      ]
     },
     "metadata": {},
     "output_type": "display_data"
    },
    {
     "data": {
      "text/html": [
       "<ol class=list-inline>\n",
       "\t<li>'2018.06'</li>\n",
       "\t<li>'HEAD'</li>\n",
       "\t<li>'my'</li>\n",
       "\t<li>'array'</li>\n",
       "\t<li>'3,7,9,11'</li>\n",
       "\t<li>'say'</li>\n",
       "\t<li>'array'</li>\n",
       "\t<li>'0,1'</li>\n",
       "\t<li>'2'</li>\n",
       "</ol>\n"
      ],
      "text/latex": [
       "\\begin{enumerate*}\n",
       "\\item '2018.06'\n",
       "\\item 'HEAD'\n",
       "\\item 'my'\n",
       "\\item 'array'\n",
       "\\item '3,7,9,11'\n",
       "\\item 'say'\n",
       "\\item 'array'\n",
       "\\item '0,1'\n",
       "\\item '2'\n",
       "\\end{enumerate*}\n"
      ],
      "text/markdown": [
       "1. '2018.06'\n",
       "2. 'HEAD'\n",
       "3. 'my'\n",
       "4. 'array'\n",
       "5. '3,7,9,11'\n",
       "6. 'say'\n",
       "7. 'array'\n",
       "8. '0,1'\n",
       "9. '2'\n",
       "\n",
       "\n"
      ],
      "text/plain": [
       "[1] \"2018.06\"  \"HEAD\"     \"my\"       \"array\"    \"3,7,9,11\" \"say\"      \"array\"   \n",
       "[8] \"0,1\"      \"2\"       "
      ]
     },
     "metadata": {},
     "output_type": "display_data"
    }
   ],
   "source": [
    "tokens[[1]]\n",
    "tokens[[1]][[1]]\n",
    "#tolower(tokens[[1]][[5]])"
   ]
  },
  {
   "cell_type": "code",
   "execution_count": 270,
   "metadata": {},
   "outputs": [],
   "source": [
    "eoftline<-rep(\"__GX1EOF__\",5)\n",
    "tokens<-mclapply(tokens_org,function(tk)c(lapply(tk,tolower),list(eoftline)))"
   ]
  },
  {
   "cell_type": "code",
   "execution_count": 271,
   "metadata": {},
   "outputs": [
    {
     "data": {
      "text/html": [
       "<ol>\n",
       "\t<li><ol class=list-inline>\n",
       "\t<li>'2018.06'</li>\n",
       "\t<li>'head'</li>\n",
       "\t<li>'my'</li>\n",
       "\t<li>'array'</li>\n",
       "\t<li>'3,7,9,11'</li>\n",
       "\t<li>'say'</li>\n",
       "\t<li>'array'</li>\n",
       "\t<li>'0,1'</li>\n",
       "\t<li>'2'</li>\n",
       "</ol>\n",
       "</li>\n",
       "\t<li><ol class=list-inline>\n",
       "\t<li>'__GX1EOF__'</li>\n",
       "\t<li>'__GX1EOF__'</li>\n",
       "\t<li>'__GX1EOF__'</li>\n",
       "\t<li>'__GX1EOF__'</li>\n",
       "\t<li>'__GX1EOF__'</li>\n",
       "</ol>\n",
       "</li>\n",
       "</ol>\n"
      ],
      "text/latex": [
       "\\begin{enumerate}\n",
       "\\item \\begin{enumerate*}\n",
       "\\item '2018.06'\n",
       "\\item 'head'\n",
       "\\item 'my'\n",
       "\\item 'array'\n",
       "\\item '3,7,9,11'\n",
       "\\item 'say'\n",
       "\\item 'array'\n",
       "\\item '0,1'\n",
       "\\item '2'\n",
       "\\end{enumerate*}\n",
       "\n",
       "\\item \\begin{enumerate*}\n",
       "\\item '\\_\\_GX1EOF\\_\\_'\n",
       "\\item '\\_\\_GX1EOF\\_\\_'\n",
       "\\item '\\_\\_GX1EOF\\_\\_'\n",
       "\\item '\\_\\_GX1EOF\\_\\_'\n",
       "\\item '\\_\\_GX1EOF\\_\\_'\n",
       "\\end{enumerate*}\n",
       "\n",
       "\\end{enumerate}\n"
      ],
      "text/markdown": [
       "1. 1. '2018.06'\n",
       "2. 'head'\n",
       "3. 'my'\n",
       "4. 'array'\n",
       "5. '3,7,9,11'\n",
       "6. 'say'\n",
       "7. 'array'\n",
       "8. '0,1'\n",
       "9. '2'\n",
       "\n",
       "\n",
       "\n",
       "2. 1. '__GX1EOF__'\n",
       "2. '__GX1EOF__'\n",
       "3. '__GX1EOF__'\n",
       "4. '__GX1EOF__'\n",
       "5. '__GX1EOF__'\n",
       "\n",
       "\n",
       "\n",
       "\n",
       "\n"
      ],
      "text/plain": [
       "[[1]]\n",
       "[1] \"2018.06\"  \"head\"     \"my\"       \"array\"    \"3,7,9,11\" \"say\"      \"array\"   \n",
       "[8] \"0,1\"      \"2\"       \n",
       "\n",
       "[[2]]\n",
       "[1] \"__GX1EOF__\" \"__GX1EOF__\" \"__GX1EOF__\" \"__GX1EOF__\" \"__GX1EOF__\"\n"
      ]
     },
     "metadata": {},
     "output_type": "display_data"
    }
   ],
   "source": [
    "tokens[[1]]"
   ]
  },
  {
   "cell_type": "code",
   "execution_count": 272,
   "metadata": {},
   "outputs": [
    {
     "data": {
      "text/plain": [
       "<itoken>\n",
       "  Inherits from: <iterator>\n",
       "  Public:\n",
       "    chunk_size: 498421\n",
       "    clone: function (deep = FALSE) \n",
       "    counter: 0\n",
       "    ids: 000/0005c683654837f93fff74085799d16c40782f3c1 000/0005c6 ...\n",
       "    initialize: function (iterable, ids = NULL, n_chunks = 10, progress_ = interactive(), \n",
       "    is_complete: active binding\n",
       "    iterable: list\n",
       "    length: active binding\n",
       "    nextElem: function () \n",
       "    preprocessor: list\n",
       "    progress: FALSE\n",
       "    progressbar: NULL\n",
       "    tokenizer: list"
      ]
     },
     "metadata": {},
     "output_type": "display_data"
    }
   ],
   "source": [
    "it <- itoken(do.call(c,tokens), progressbar = FALSE)\n",
    "it"
   ]
  },
  {
   "cell_type": "code",
   "execution_count": 273,
   "metadata": {},
   "outputs": [
    {
     "data": {
      "text/plain": [
       "   user  system elapsed \n",
       " 20.642   1.271  21.915 "
      ]
     },
     "metadata": {},
     "output_type": "display_data"
    }
   ],
   "source": [
    "#create_vocabulary\n",
    "RcppParallel::setThreadOptions(numThreads = 80) ##Doesn't seem to improve much here\n",
    "system.time(vocab <- create_vocabulary(it))\n",
    "vocab_all<-vocab"
   ]
  },
  {
   "cell_type": "code",
   "execution_count": 274,
   "metadata": {},
   "outputs": [
    {
     "data": {
      "text/html": [
       "<table>\n",
       "<caption>A text2vec_vocabulary: 6 × 3</caption>\n",
       "<thead>\n",
       "\t<tr><th></th><th scope=col>term</th><th scope=col>term_count</th><th scope=col>doc_count</th></tr>\n",
       "\t<tr><th></th><th scope=col>&lt;chr&gt;</th><th scope=col>&lt;int&gt;</th><th scope=col>&lt;int&gt;</th></tr>\n",
       "</thead>\n",
       "<tbody>\n",
       "\t<tr><th scope=row>2</th><td>froterujmyż                                                 </td><td>1</td><td>1</td></tr>\n",
       "\t<tr><th scope=row>4</th><td>thisoffset                                                  </td><td>1</td><td>1</td></tr>\n",
       "\t<tr><th scope=row>5</th><td>state.castingmode:options                                   </td><td>1</td><td>1</td></tr>\n",
       "\t<tr><th scope=row>8</th><td>scudzoziemczaną                                             </td><td>1</td><td>1</td></tr>\n",
       "\t<tr><th scope=row>10</th><td>dgx43kd5                                                    </td><td>1</td><td>1</td></tr>\n",
       "\t<tr><th scope=row>11</th><td>eke3lckbwfcrssopndxfc6o1jlukyylp8b6dnfz5wufzuaquzn13n3balcg5</td><td>1</td><td>1</td></tr>\n",
       "</tbody>\n",
       "</table>\n"
      ],
      "text/latex": [
       "A text2vec_vocabulary: 6 × 3\n",
       "\\begin{tabular}{r|lll}\n",
       "  & term & term\\_count & doc\\_count\\\\\n",
       "  & <chr> & <int> & <int>\\\\\n",
       "\\hline\n",
       "\t2 & froterujmyż                                                  & 1 & 1\\\\\n",
       "\t4 & thisoffset                                                   & 1 & 1\\\\\n",
       "\t5 & state.castingmode:options                                    & 1 & 1\\\\\n",
       "\t8 & scudzoziemczaną                                              & 1 & 1\\\\\n",
       "\t10 & dgx43kd5                                                     & 1 & 1\\\\\n",
       "\t11 & eke3lckbwfcrssopndxfc6o1jlukyylp8b6dnfz5wufzuaquzn13n3balcg5 & 1 & 1\\\\\n",
       "\\end{tabular}\n"
      ],
      "text/markdown": [
       "\n",
       "A text2vec_vocabulary: 6 × 3\n",
       "\n",
       "| <!--/--> | term &lt;chr&gt; | term_count &lt;int&gt; | doc_count &lt;int&gt; |\n",
       "|---|---|---|---|\n",
       "| 2 | froterujmyż                                                  | 1 | 1 |\n",
       "| 4 | thisoffset                                                   | 1 | 1 |\n",
       "| 5 | state.castingmode:options                                    | 1 | 1 |\n",
       "| 8 | scudzoziemczaną                                              | 1 | 1 |\n",
       "| 10 | dgx43kd5                                                     | 1 | 1 |\n",
       "| 11 | eke3lckbwfcrssopndxfc6o1jlukyylp8b6dnfz5wufzuaquzn13n3balcg5 | 1 | 1 |\n",
       "\n"
      ],
      "text/plain": [
       "   term                                                         term_count\n",
       "2  froterujmyż                                                  1         \n",
       "4  thisoffset                                                   1         \n",
       "5  state.castingmode:options                                    1         \n",
       "8  scudzoziemczaną                                              1         \n",
       "10 dgx43kd5                                                     1         \n",
       "11 eke3lckbwfcrssopndxfc6o1jlukyylp8b6dnfz5wufzuaquzn13n3balcg5 1         \n",
       "   doc_count\n",
       "2  1        \n",
       "4  1        \n",
       "5  1        \n",
       "8  1        \n",
       "10 1        \n",
       "11 1        "
      ]
     },
     "metadata": {},
     "output_type": "display_data"
    },
    {
     "data": {
      "text/html": [
       "<ol class=list-inline>\n",
       "\t<li>1802703</li>\n",
       "\t<li>3</li>\n",
       "</ol>\n"
      ],
      "text/latex": [
       "\\begin{enumerate*}\n",
       "\\item 1802703\n",
       "\\item 3\n",
       "\\end{enumerate*}\n"
      ],
      "text/markdown": [
       "1. 1802703\n",
       "2. 3\n",
       "\n",
       "\n"
      ],
      "text/plain": [
       "[1] 1802703       3"
      ]
     },
     "metadata": {},
     "output_type": "display_data"
    }
   ],
   "source": [
    "#?prune_vocabulary\n",
    "#prune_vocabulary(vocabulary, term_count_min = 1L, term_count_max = Inf,\n",
    "#  doc_proportion_min = 0, doc_proportion_max = 1, doc_count_min = 1L,\n",
    "#  doc_count_max = Inf, vocab_term_max = Inf)\n",
    "head(vocab_all)\n",
    "dim(vocab_all)"
   ]
  },
  {
   "cell_type": "code",
   "execution_count": 275,
   "metadata": {},
   "outputs": [
    {
     "data": {
      "text/html": [
       "<table>\n",
       "<caption>A text2vec_vocabulary: 6 × 3</caption>\n",
       "<thead>\n",
       "\t<tr><th></th><th scope=col>term</th><th scope=col>term_count</th><th scope=col>doc_count</th></tr>\n",
       "\t<tr><th></th><th scope=col>&lt;chr&gt;</th><th scope=col>&lt;int&gt;</th><th scope=col>&lt;int&gt;</th></tr>\n",
       "</thead>\n",
       "<tbody>\n",
       "\t<tr><th scope=row>1</th><td>launchcliente    </td><td>2</td><td>2</td></tr>\n",
       "\t<tr><th scope=row>3</th><td>zdecydowała      </td><td>2</td><td>2</td></tr>\n",
       "\t<tr><th scope=row>6</th><td>arrays.deepequals</td><td>2</td><td>2</td></tr>\n",
       "\t<tr><th scope=row>28</th><td>lerp2            </td><td>2</td><td>2</td></tr>\n",
       "\t<tr><th scope=row>30</th><td>spicula's        </td><td>2</td><td>2</td></tr>\n",
       "\t<tr><th scope=row>48</th><td>0.084681         </td><td>2</td><td>2</td></tr>\n",
       "</tbody>\n",
       "</table>\n"
      ],
      "text/latex": [
       "A text2vec_vocabulary: 6 × 3\n",
       "\\begin{tabular}{r|lll}\n",
       "  & term & term\\_count & doc\\_count\\\\\n",
       "  & <chr> & <int> & <int>\\\\\n",
       "\\hline\n",
       "\t1 & launchcliente     & 2 & 2\\\\\n",
       "\t3 & zdecydowała       & 2 & 2\\\\\n",
       "\t6 & arrays.deepequals & 2 & 2\\\\\n",
       "\t28 & lerp2             & 2 & 2\\\\\n",
       "\t30 & spicula's         & 2 & 2\\\\\n",
       "\t48 & 0.084681          & 2 & 2\\\\\n",
       "\\end{tabular}\n"
      ],
      "text/markdown": [
       "\n",
       "A text2vec_vocabulary: 6 × 3\n",
       "\n",
       "| <!--/--> | term &lt;chr&gt; | term_count &lt;int&gt; | doc_count &lt;int&gt; |\n",
       "|---|---|---|---|\n",
       "| 1 | launchcliente     | 2 | 2 |\n",
       "| 3 | zdecydowała       | 2 | 2 |\n",
       "| 6 | arrays.deepequals | 2 | 2 |\n",
       "| 28 | lerp2             | 2 | 2 |\n",
       "| 30 | spicula's         | 2 | 2 |\n",
       "| 48 | 0.084681          | 2 | 2 |\n",
       "\n"
      ],
      "text/plain": [
       "   term              term_count doc_count\n",
       "1  launchcliente     2          2        \n",
       "3  zdecydowała       2          2        \n",
       "6  arrays.deepequals 2          2        \n",
       "28 lerp2             2          2        \n",
       "30 spicula's         2          2        \n",
       "48 0.084681          2          2        "
      ]
     },
     "metadata": {},
     "output_type": "display_data"
    },
    {
     "data": {
      "text/html": [
       "<ol class=list-inline>\n",
       "\t<li>616146</li>\n",
       "\t<li>3</li>\n",
       "</ol>\n"
      ],
      "text/latex": [
       "\\begin{enumerate*}\n",
       "\\item 616146\n",
       "\\item 3\n",
       "\\end{enumerate*}\n"
      ],
      "text/markdown": [
       "1. 616146\n",
       "2. 3\n",
       "\n",
       "\n"
      ],
      "text/plain": [
       "[1] 616146      3"
      ]
     },
     "metadata": {},
     "output_type": "display_data"
    }
   ],
   "source": [
    "vocab <- prune_vocabulary(vocab_all, term_count_min = 2L)\n",
    "#vocab <- prune_vocabulary(vocab_all, term_count_min = 5L)\n",
    "head(vocab)\n",
    "dim(vocab)"
   ]
  },
  {
   "cell_type": "code",
   "execution_count": 276,
   "metadata": {},
   "outputs": [
    {
     "data": {
      "text/plain": [
       "   user  system elapsed \n",
       " 33.125   1.892  35.018 "
      ]
     },
     "metadata": {},
     "output_type": "display_data"
    }
   ],
   "source": [
    "# Use our filtered vocabulary\n",
    "vocab<-vocab_all\n",
    "vectorizer <- vocab_vectorizer(vocab)\n",
    "# use window of 5 for context words\n",
    "system.time(tcm <- create_tcm(it, vectorizer, skip_grams_window = 5L))"
   ]
  },
  {
   "cell_type": "code",
   "execution_count": 277,
   "metadata": {},
   "outputs": [],
   "source": [
    "glove <- GlobalVectors$new(word_vectors_size = 100, learning_rate = 0.13, vocabulary = vocab, x_max = 10)"
   ]
  },
  {
   "cell_type": "code",
   "execution_count": null,
   "metadata": {},
   "outputs": [],
   "source": [
    "RcppParallel::setThreadOptions(numThreads = 88)\n",
    "system.time(glove$fit_transform(tcm, n_iter = 80))\n",
    "# `glove` object will be modified by `fit()` call !\n",
    "#fit(tcm, glove, n_iter = 20)"
   ]
  },
  {
   "cell_type": "code",
   "execution_count": null,
   "metadata": {},
   "outputs": [],
   "source": [
    "#system.time(word_vectors <- glove$get_word_vectors())\n",
    "word_vectors <- glove$components"
   ]
  },
  {
   "cell_type": "code",
   "execution_count": null,
   "metadata": {},
   "outputs": [],
   "source": [
    "dim(word_vectors)\n",
    "\n",
    "word_vectors[,\"dirty\"]"
   ]
  },
  {
   "cell_type": "code",
   "execution_count": 241,
   "metadata": {},
   "outputs": [
    {
     "data": {
      "text/plain": [
       "    Min.  1st Qu.   Median     Mean  3rd Qu.     Max. \n",
       "-14.3900  -1.7850   0.1694   0.1655   2.1130  13.6800 "
      ]
     },
     "metadata": {},
     "output_type": "display_data"
    }
   ],
   "source": [
    "summary(colSums(word_vectors))"
   ]
  },
  {
   "cell_type": "code",
   "execution_count": 253,
   "metadata": {},
   "outputs": [
    {
     "data": {
      "text/html": [
       "<ol class=list-inline>\n",
       "\t<li>'bodyposition.p'</li>\n",
       "\t<li>'38.159268'</li>\n",
       "\t<li>'confusões'</li>\n",
       "\t<li>'zdecydowała'</li>\n",
       "\t<li>'builder.setpositivebutton'</li>\n",
       "\t<li>'arduino2'</li>\n",
       "\t<li>'ℭ𝔩𝔲𝔟'</li>\n",
       "\t<li>'val_loss.item'</li>\n",
       "\t<li>'zabraliście'</li>\n",
       "\t<li>'a420_10le'</li>\n",
       "\t<li>'2,9,6,16,16,15'</li>\n",
       "\t<li>'chanyeol'</li>\n",
       "\t<li>'this.enabled'</li>\n",
       "\t<li>'niewężykowata'</li>\n",
       "\t<li>'bkp_string'</li>\n",
       "\t<li>'ciric'</li>\n",
       "\t<li>'razroznjennyje'</li>\n",
       "\t<li>'547383439920986228'</li>\n",
       "\t<li>'77321'</li>\n",
       "\t<li>'käima:d'</li>\n",
       "</ol>\n"
      ],
      "text/latex": [
       "\\begin{enumerate*}\n",
       "\\item 'bodyposition.p'\n",
       "\\item '38.159268'\n",
       "\\item 'confusões'\n",
       "\\item 'zdecydowała'\n",
       "\\item 'builder.setpositivebutton'\n",
       "\\item 'arduino2'\n",
       "\\item 'ℭ𝔩𝔲𝔟'\n",
       "\\item 'val\\_loss.item'\n",
       "\\item 'zabraliście'\n",
       "\\item 'a420\\_10le'\n",
       "\\item '2,9,6,16,16,15'\n",
       "\\item 'chanyeol'\n",
       "\\item 'this.enabled'\n",
       "\\item 'niewężykowata'\n",
       "\\item 'bkp\\_string'\n",
       "\\item 'ciric'\n",
       "\\item 'razroznjennyje'\n",
       "\\item '547383439920986228'\n",
       "\\item '77321'\n",
       "\\item 'käima:d'\n",
       "\\end{enumerate*}\n"
      ],
      "text/markdown": [
       "1. 'bodyposition.p'\n",
       "2. '38.159268'\n",
       "3. 'confusões'\n",
       "4. 'zdecydowała'\n",
       "5. 'builder.setpositivebutton'\n",
       "6. 'arduino2'\n",
       "7. 'ℭ𝔩𝔲𝔟'\n",
       "8. 'val_loss.item'\n",
       "9. 'zabraliście'\n",
       "10. 'a420_10le'\n",
       "11. '2,9,6,16,16,15'\n",
       "12. 'chanyeol'\n",
       "13. 'this.enabled'\n",
       "14. 'niewężykowata'\n",
       "15. 'bkp_string'\n",
       "16. 'ciric'\n",
       "17. 'razroznjennyje'\n",
       "18. '547383439920986228'\n",
       "19. '77321'\n",
       "20. 'käima:d'\n",
       "\n",
       "\n"
      ],
      "text/plain": [
       " [1] \"bodyposition.p\"            \"38.159268\"                \n",
       " [3] \"confusões\"                 \"zdecydowała\"              \n",
       " [5] \"builder.setpositivebutton\" \"arduino2\"                 \n",
       " [7] \"ℭ𝔩𝔲𝔟\"                      \"val_loss.item\"            \n",
       " [9] \"zabraliście\"               \"a420_10le\"                \n",
       "[11] \"2,9,6,16,16,15\"            \"chanyeol\"                 \n",
       "[13] \"this.enabled\"              \"niewężykowata\"            \n",
       "[15] \"bkp_string\"                \"ciric\"                    \n",
       "[17] \"razroznjennyje\"            \"547383439920986228\"       \n",
       "[19] \"77321\"                     \"käima:d\"                  "
      ]
     },
     "metadata": {},
     "output_type": "display_data"
    }
   ],
   "source": [
    "head(colnames(word_vectors),20)"
   ]
  },
  {
   "cell_type": "code",
   "execution_count": 152,
   "metadata": {},
   "outputs": [],
   "source": [
    "?sim2"
   ]
  },
  {
   "cell_type": "code",
   "execution_count": null,
   "metadata": {},
   "outputs": [],
   "source": [
    "#sim_dirty<-sim2(t(word_vectors),t(word_vectors[,\"king\",drop=FALSE]),method=\"cosine\",norm=\"l2\")\n",
    "sim_dirty<-cor(word_vectors,word_vectors[,\"dirty\",drop=FALSE]) #,method=\"cosine\",norm=\"l2\")\n"
   ]
  },
  {
   "cell_type": "code",
   "execution_count": null,
   "metadata": {},
   "outputs": [],
   "source": [
    "sim_dirty[order(sim_dirty[,1],decreasing=TRUE)[1:10],]"
   ]
  },
  {
   "cell_type": "code",
   "execution_count": 94,
   "metadata": {},
   "outputs": [
    {
     "ename": "ERROR",
     "evalue": "Error in word_vectors[\"paris\", , drop = FALSE]: subscript out of bounds\n",
     "output_type": "error",
     "traceback": [
      "Error in word_vectors[\"paris\", , drop = FALSE]: subscript out of bounds\nTraceback:\n"
     ]
    }
   ],
   "source": [
    "berlin <- word_vectors[\"paris\", , drop = FALSE] - \n",
    "  word_vectors[\"france\", , drop = FALSE] + \n",
    "  word_vectors[\"germany\", , drop = FALSE]"
   ]
  },
  {
   "cell_type": "code",
   "execution_count": null,
   "metadata": {},
   "outputs": [],
   "source": []
  },
  {
   "cell_type": "code",
   "execution_count": 6,
   "metadata": {},
   "outputs": [
    {
     "name": "stderr",
     "output_type": "stream",
     "text": [
      "Warning message in file(file, \"rt\"):\n",
      "“cannot open file '../../datadirs/20180712_1240_Sample_genxone_poznan_microb_s221-223,171x3,172-173x2,178,179_16s_kp176_MN107_SLSK108/debarcoded.BC12/BC12.blastn.n5w15.classification.filtered.top1.tsv': No such file or directory”"
     ]
    },
    {
     "ename": "ERROR",
     "evalue": "Error in file(file, \"rt\"): cannot open the connection\n",
     "output_type": "error",
     "traceback": [
      "Error in file(file, \"rt\"): cannot open the connection\nTraceback:\n",
      "1. read.csv(\"../../datadirs/20180712_1240_Sample_genxone_poznan_microb_s221-223,171x3,172-173x2,178,179_16s_kp176_MN107_SLSK108/debarcoded.BC12/BC12.blastn.n5w15.classification.filtered.top1.tsv\", \n .     header = FALSE, sep = \"\\t\", quote = \"\\\"\", dec = \".\", fill = TRUE)",
      "2. read.table(file = file, header = header, sep = sep, quote = quote, \n .     dec = dec, fill = fill, comment.char = comment.char, ...)",
      "3. file(file, \"rt\")"
     ]
    }
   ],
   "source": [
    "df_5w15 <- read.csv(\"../../datadirs/20180712_1240_Sample_genxone_poznan_microb_s221-223,171x3,172-173x2,178,179_16s_kp176_MN107_SLSK108/debarcoded.BC12/BC12.blastn.n5w15.classification.filtered.top1.tsv\",\n",
    "         header = FALSE, sep = \"\\t\", quote = \"\\\"\", dec = \".\", fill = TRUE)   \n",
    "df_5w10 <- read.csv(\"../../datadirs/20180712_1240_Sample_genxone_poznan_microb_s221-223,171x3,172-173x2,178,179_16s_kp176_MN107_SLSK108/debarcoded.BC12/BC12.blastn.n5w10.classification.filtered.top1.tsv\",\n",
    "         header = FALSE, sep = \"\\t\", quote = \"\\\"\", dec = \".\", fill = TRUE)   \n",
    "df_500w15 <- read.csv(\"../../datadirs/20180821_1504_Sample_genxone_poznan_microb_s266-283,296-304_16s_kp182_MN107_SLSK108/debarcoded.BC01/n500w15e3/BC01.blastn.n500w15.classification.filtered.top1.tsv\",\n",
    "         header = FALSE, sep = \"\\t\", quote = \"\\\"\", dec = \".\", fill = TRUE)  "
   ]
  },
  {
   "cell_type": "code",
   "execution_count": 8,
   "metadata": {},
   "outputs": [],
   "source": [
    "df_5w15.stat <- read.csv(\"../../datadirs/20180712_1240_Sample_genxone_poznan_microb_s221-223,171x3,172-173x2,178,179_16s_kp176_MN107_SLSK108/debarcoded.BC12/BC12.blastn.n5w15.classification.filtered.top1.stat.tsv\",\n",
    "         header = FALSE, sep = \"\\t\", quote = \"\\\"\", dec = \".\", fill = TRUE)   \n",
    "df_5w10.stat <- read.csv(\"../../datadirs/20180712_1240_Sample_genxone_poznan_microb_s221-223,171x3,172-173x2,178,179_16s_kp176_MN107_SLSK108/debarcoded.BC12/BC12.blastn.n5w10.classification.filtered.top1.stat.tsv\",\n",
    "         header = FALSE, sep = \"\\t\", quote = \"\\\"\", dec = \".\", fill = TRUE)  \n"
   ]
  },
  {
   "cell_type": "code",
   "execution_count": null,
   "metadata": {},
   "outputs": [],
   "source": []
  },
  {
   "cell_type": "code",
   "execution_count": 9,
   "metadata": {},
   "outputs": [],
   "source": [
    "colnames(df_5w15) <- c(\"read_id_15\",\"info_15\",\"taxid\",\"bit_score_15\",\"len_15\",\"qlen_15\",\"mismatch_15\")\n",
    "colnames(df_5w10) <- c(\"read_id_10\",\"info_10\",\"taxid\",\"bit_score_10\",\"len_10\",\"qlen_10\", \"mismatch_10\")\n",
    "\n",
    "#aniqseqid sseqid staxids bitscore length qlen mismatch\n",
    "#df_5w15.sort <- df_5w15[order(df_5w15$taxid),]\n",
    "#df_5w10.sort <- df_5w10[order(df_5w10$taxid),]\n",
    "#taxid count max score\n"
   ]
  },
  {
   "cell_type": "code",
   "execution_count": 10,
   "metadata": {},
   "outputs": [],
   "source": [
    "colnames(df_5w15.stat) <- c(\"taxid\",\"count_15\",\"mean_bit_score_15\", \"median_bit_score_15\", \"mean_len_15\",\"median_len_15\")\n",
    "colnames(df_5w10.stat) <- c(\"taxid\",\"count_10\",\"mean_bit_score_10\", \"median_bit_score_10\", \"mean_len_10\",\"median_len_10\")"
   ]
  },
  {
   "cell_type": "code",
   "execution_count": 11,
   "metadata": {},
   "outputs": [
    {
     "data": {
      "text/html": [
       "<ol class=list-inline>\n",
       "\t<li>'taxid'</li>\n",
       "\t<li>'count_10'</li>\n",
       "\t<li>'mean_bit_score_10'</li>\n",
       "\t<li>'median_bit_score_10'</li>\n",
       "\t<li>'mean_len_10'</li>\n",
       "\t<li>'median_len_10'</li>\n",
       "\t<li>'count_15'</li>\n",
       "\t<li>'mean_bit_score_15'</li>\n",
       "\t<li>'median_bit_score_15'</li>\n",
       "\t<li>'mean_len_15'</li>\n",
       "\t<li>'median_len_15'</li>\n",
       "</ol>\n"
      ],
      "text/latex": [
       "\\begin{enumerate*}\n",
       "\\item 'taxid'\n",
       "\\item 'count\\_10'\n",
       "\\item 'mean\\_bit\\_score\\_10'\n",
       "\\item 'median\\_bit\\_score\\_10'\n",
       "\\item 'mean\\_len\\_10'\n",
       "\\item 'median\\_len\\_10'\n",
       "\\item 'count\\_15'\n",
       "\\item 'mean\\_bit\\_score\\_15'\n",
       "\\item 'median\\_bit\\_score\\_15'\n",
       "\\item 'mean\\_len\\_15'\n",
       "\\item 'median\\_len\\_15'\n",
       "\\end{enumerate*}\n"
      ],
      "text/markdown": [
       "1. 'taxid'\n",
       "2. 'count_10'\n",
       "3. 'mean_bit_score_10'\n",
       "4. 'median_bit_score_10'\n",
       "5. 'mean_len_10'\n",
       "6. 'median_len_10'\n",
       "7. 'count_15'\n",
       "8. 'mean_bit_score_15'\n",
       "9. 'median_bit_score_15'\n",
       "10. 'mean_len_15'\n",
       "11. 'median_len_15'\n",
       "\n",
       "\n"
      ],
      "text/plain": [
       " [1] \"taxid\"               \"count_10\"            \"mean_bit_score_10\"  \n",
       " [4] \"median_bit_score_10\" \"mean_len_10\"         \"median_len_10\"      \n",
       " [7] \"count_15\"            \"mean_bit_score_15\"   \"median_bit_score_15\"\n",
       "[10] \"mean_len_15\"         \"median_len_15\"      "
      ]
     },
     "metadata": {},
     "output_type": "display_data"
    }
   ],
   "source": [
    "df <- merge(df_5w10.stat, df_5w15.stat, by.df_5w10.stat = \"taxid\", by.df_5w15.stat = \"taxid\")\n",
    "\n",
    "colnames(df)"
   ]
  },
  {
   "cell_type": "code",
   "execution_count": null,
   "metadata": {},
   "outputs": [],
   "source": []
  },
  {
   "cell_type": "code",
   "execution_count": 12,
   "metadata": {},
   "outputs": [
    {
     "data": {
      "text/html": [
       "646.345505898901"
      ],
      "text/latex": [
       "646.345505898901"
      ],
      "text/markdown": [
       "646.345505898901"
      ],
      "text/plain": [
       "[1] 646.3455"
      ]
     },
     "metadata": {},
     "output_type": "display_data"
    },
    {
     "data": {
      "text/html": [
       "645.703864560219"
      ],
      "text/latex": [
       "645.703864560219"
      ],
      "text/markdown": [
       "645.703864560219"
      ],
      "text/plain": [
       "[1] 645.7039"
      ]
     },
     "metadata": {},
     "output_type": "display_data"
    }
   ],
   "source": [
    "mean(df[[\"mean_bit_score_10\"]])\n",
    "mean(df[[\"mean_bit_score_15\"]])"
   ]
  },
  {
   "cell_type": "code",
   "execution_count": 13,
   "metadata": {},
   "outputs": [
    {
     "data": {
      "image/png": "[encoded data removed]",
      "text/plain": [
       "Plot with title “Histogram of df$count_10”"
      ]
     },
     "metadata": {},
     "output_type": "display_data"
    }
   ],
   "source": [
    "hist(df$count_10,xlim=c(1,50),breaks=12000,col=rgb(0,0,1,1/4))\n",
    "hist(df$count_15,xlim=c(1,50),breaks=12000,col=rgb(1,0,0,1/4),add=T)"
   ]
  },
  {
   "cell_type": "code",
   "execution_count": null,
   "metadata": {},
   "outputs": [],
   "source": []
  },
  {
   "cell_type": "code",
   "execution_count": 14,
   "metadata": {},
   "outputs": [],
   "source": [
    "#table(df$count_10)\n",
    "#table(df$count_15)"
   ]
  },
  {
   "cell_type": "code",
   "execution_count": null,
   "metadata": {},
   "outputs": [],
   "source": []
  },
  {
   "cell_type": "code",
   "execution_count": 15,
   "metadata": {},
   "outputs": [
    {
     "data": {
      "text/plain": [
       "   Min. 1st Qu.  Median    Mean 3rd Qu.    Max. \n",
       "   41.7   375.0   653.0   645.7   899.9  1938.0 "
      ]
     },
     "metadata": {},
     "output_type": "display_data"
    },
    {
     "data": {
      "text/plain": [
       "   Min. 1st Qu.  Median    Mean 3rd Qu.    Max. \n",
       "   41.7   369.8   653.0   646.3   901.8  1938.0 "
      ]
     },
     "metadata": {},
     "output_type": "display_data"
    },
    {
     "data": {
      "text/plain": [
       "   Min. 1st Qu.  Median    Mean 3rd Qu.    Max. \n",
       "   41.7   351.0   640.5   644.1   917.5  1938.0 "
      ]
     },
     "metadata": {},
     "output_type": "display_data"
    },
    {
     "data": {
      "text/plain": [
       "   Min. 1st Qu.  Median    Mean 3rd Qu.    Max. \n",
       "   41.7   351.5   640.5   645.3   918.6  1938.0 "
      ]
     },
     "metadata": {},
     "output_type": "display_data"
    }
   ],
   "source": [
    "summary(df$mean_bit_score_15)\n",
    "summary(df$mean_bit_score_10)\n",
    "summary(df$median_bit_score_15)\n",
    "summary(df$median_bit_score_10)"
   ]
  },
  {
   "cell_type": "code",
   "execution_count": 16,
   "metadata": {},
   "outputs": [
    {
     "data": {
      "text/html": [
       "71977128"
      ],
      "text/latex": [
       "71977128"
      ],
      "text/markdown": [
       "71977128"
      ],
      "text/plain": [
       "[1] 71977128"
      ]
     },
     "metadata": {},
     "output_type": "display_data"
    },
    {
     "data": {
      "text/html": [
       "71985240"
      ],
      "text/latex": [
       "71985240"
      ],
      "text/markdown": [
       "71985240"
      ],
      "text/plain": [
       "[1] 71985240"
      ]
     },
     "metadata": {},
     "output_type": "display_data"
    },
    {
     "data": {
      "text/html": [
       "5198672"
      ],
      "text/latex": [
       "5198672"
      ],
      "text/markdown": [
       "5198672"
      ],
      "text/plain": [
       "[1] 5198672"
      ]
     },
     "metadata": {},
     "output_type": "display_data"
    },
    {
     "data": {
      "text/html": [
       "5199705"
      ],
      "text/latex": [
       "5199705"
      ],
      "text/markdown": [
       "5199705"
      ],
      "text/plain": [
       "[1] 5199705"
      ]
     },
     "metadata": {},
     "output_type": "display_data"
    }
   ],
   "source": [
    "sum(df_5w15$len_15)\n",
    "sum(df_5w10$len_10)\n",
    "sum(df_5w15$mismatch_15)\n",
    "sum(df_5w10$mismatch_10)"
   ]
  },
  {
   "cell_type": "code",
   "execution_count": 22,
   "metadata": {},
   "outputs": [
    {
     "data": {
      "text/html": [
       "<table>\n",
       "<thead><tr><th></th><th scope=col>taxid</th><th scope=col>count_10</th><th scope=col>mean_bit_score_10</th><th scope=col>median_bit_score_10</th><th scope=col>mean_len_10</th><th scope=col>median_len_10</th><th scope=col>count_15</th><th scope=col>mean_bit_score_15</th><th scope=col>median_bit_score_15</th><th scope=col>mean_len_15</th><th scope=col>median_len_15</th><th scope=col>dif_mean</th><th scope=col>dif_median</th></tr></thead>\n",
       "<tbody>\n",
       "\t<tr><th scope=row>263</th><td>  91061   </td><td>  2       </td><td> 283.0000 </td><td> 283.00   </td><td> 411.0000 </td><td> 411.0    </td><td>  1       </td><td> 100.0000 </td><td> 100.0    </td><td>  58.00000</td><td>  58.0    </td><td>47.78068  </td><td>47.78068  </td></tr>\n",
       "\t<tr><th scope=row>395</th><td> 338193   </td><td>  1       </td><td> 279.0000 </td><td> 279.00   </td><td> 504.0000 </td><td> 504.0    </td><td>  2       </td><td> 200.0000 </td><td> 200.0    </td><td> 415.00000</td><td> 415.0    </td><td>16.49269  </td><td>16.49269  </td></tr>\n",
       "\t<tr><th scope=row>41</th><td>   1302   </td><td>  3       </td><td>1217.6667 </td><td>1275.00   </td><td>1239.0000 </td><td>1379.0    </td><td>  2       </td><td> 977.5000 </td><td> 977.5    </td><td>1139.00000</td><td>1139.0    </td><td>10.94070  </td><td>13.20755  </td></tr>\n",
       "\t<tr><th scope=row>265</th><td>  94868   </td><td> 12       </td><td> 663.9167 </td><td> 557.50   </td><td> 780.6667 </td><td> 651.5    </td><td> 11       </td><td> 533.1818 </td><td> 298.0    </td><td> 619.00000</td><td> 366.0    </td><td>10.92098  </td><td>30.33314  </td></tr>\n",
       "\t<tr><th scope=row>252</th><td>  84037   </td><td> 14       </td><td> 498.3571 </td><td> 377.50   </td><td> 740.5714 </td><td> 658.0    </td><td> 12       </td><td> 407.4167 </td><td> 269.0    </td><td> 645.83333</td><td> 299.5    </td><td>10.04009  </td><td>16.78268  </td></tr>\n",
       "\t<tr><th scope=row>176</th><td>  37659   </td><td>  8       </td><td> 729.2500 </td><td> 841.00   </td><td> 925.5000 </td><td>1133.5    </td><td>  7       </td><td> 611.4286 </td><td> 640.0    </td><td> 824.00000</td><td> 956.0    </td><td> 8.78819  </td><td>13.57191  </td></tr>\n",
       "\t<tr><th scope=row>139</th><td>  29364   </td><td>  3       </td><td> 822.3333 </td><td> 767.00   </td><td>1228.0000 </td><td>1439.0    </td><td>  4       </td><td> 719.7500 </td><td> 688.5    </td><td>1102.75000</td><td>1116.5    </td><td> 6.65226  </td><td> 5.39334  </td></tr>\n",
       "\t<tr><th scope=row>181</th><td>  38304   </td><td>  5       </td><td>1213.6000 </td><td>1175.00   </td><td>1164.4000 </td><td>1316.0    </td><td>  4       </td><td>1068.0000 </td><td>1021.0    </td><td>1118.00000</td><td>1232.0    </td><td> 6.38149  </td><td> 7.01275  </td></tr>\n",
       "\t<tr><th scope=row>413</th><td> 371674   </td><td>  4       </td><td> 692.2500 </td><td> 664.50   </td><td>1044.7500 </td><td>1178.5    </td><td>  3       </td><td> 612.0000 </td><td> 518.0    </td><td>1007.00000</td><td>1199.0    </td><td> 6.15296  </td><td>12.38901  </td></tr>\n",
       "\t<tr><th scope=row>617</th><td>1506553   </td><td> 39       </td><td> 903.0000 </td><td>1011.00   </td><td>1082.3077 </td><td>1337.0    </td><td> 34       </td><td> 816.4118 </td><td> 901.5    </td><td>1005.02941</td><td>1243.0    </td><td> 5.03592  </td><td> 5.72549  </td></tr>\n",
       "\t<tr><th scope=row>539</th><td>1157312   </td><td>  8       </td><td> 629.3750 </td><td> 584.00   </td><td>1026.5000 </td><td>1174.5    </td><td>  7       </td><td> 580.1429 </td><td> 556.0    </td><td>1005.71429</td><td>1175.0    </td><td> 4.07039  </td><td> 2.45614  </td></tr>\n",
       "\t<tr><th scope=row>645</th><td>1720294   </td><td>  4       </td><td> 765.7500 </td><td> 863.00   </td><td>1036.7500 </td><td>1176.0    </td><td>  3       </td><td> 707.0000 </td><td> 784.0    </td><td> 986.00000</td><td>1163.0    </td><td> 3.98914  </td><td> 4.79660  </td></tr>\n",
       "\t<tr><th scope=row>279</th><td> 115544   </td><td>  8       </td><td> 849.2500 </td><td> 873.50   </td><td>1155.6250 </td><td>1235.5    </td><td>  7       </td><td> 791.1429 </td><td> 760.0    </td><td>1118.85714</td><td>1189.0    </td><td> 3.54227  </td><td> 6.94827  </td></tr>\n",
       "\t<tr><th scope=row>351</th><td> 225345   </td><td> 13       </td><td> 763.3077 </td><td> 721.00   </td><td>1018.0000 </td><td>1395.0    </td><td> 12       </td><td> 715.7500 </td><td> 676.5    </td><td> 985.41667</td><td>1337.5    </td><td> 3.21540  </td><td> 3.18426  </td></tr>\n",
       "\t<tr><th scope=row>192</th><td>  39495   </td><td> 15       </td><td> 765.4667 </td><td> 822.00   </td><td>1022.3333 </td><td>1421.0    </td><td> 16       </td><td> 726.1875 </td><td> 800.0    </td><td> 980.18750</td><td>1254.5    </td><td> 2.63326  </td><td> 1.35635  </td></tr>\n",
       "\t<tr><th scope=row>590</th><td>1380675   </td><td>  3       </td><td> 801.3333 </td><td> 715.00   </td><td>1320.6667 </td><td>1390.0    </td><td>  4       </td><td> 764.5000 </td><td> 685.5    </td><td>1288.75000</td><td>1291.5    </td><td> 2.35232  </td><td> 2.10639  </td></tr>\n",
       "\t<tr><th scope=row>28</th><td>    841   </td><td> 27       </td><td>1023.4444 </td><td>1142.00   </td><td>1172.1111 </td><td>1411.0    </td><td> 26       </td><td> 985.3077 </td><td>1088.5    </td><td>1158.96154</td><td>1406.0    </td><td> 1.89853  </td><td> 2.39857  </td></tr>\n",
       "\t<tr><th scope=row>165</th><td>  35785   </td><td> 12       </td><td> 786.4167 </td><td> 940.00   </td><td> 909.3333 </td><td>1199.0    </td><td> 11       </td><td> 757.6364 </td><td> 893.0    </td><td> 890.18182</td><td>1201.0    </td><td> 1.86395  </td><td> 2.56410  </td></tr>\n",
       "\t<tr><th scope=row>405</th><td> 358742   </td><td> 18       </td><td> 614.6111 </td><td> 594.50   </td><td> 749.1111 </td><td> 661.0    </td><td> 18       </td><td> 595.9444 </td><td> 590.0    </td><td> 752.72222</td><td> 661.0    </td><td> 1.54199  </td><td> 0.37991  </td></tr>\n",
       "\t<tr><th scope=row>655</th><td>1783272   </td><td> 10       </td><td>  69.7800 </td><td>  66.65   </td><td>  43.4000 </td><td>  41.0    </td><td> 11       </td><td>  67.9000 </td><td>  60.2    </td><td>  43.45455</td><td>  44.0    </td><td> 1.36549  </td><td> 5.08475  </td></tr>\n",
       "\t<tr><th scope=row>657</th><td>1796615   </td><td> 29       </td><td> 773.3448 </td><td> 808.00   </td><td> 899.3793 </td><td>1152.0    </td><td> 28       </td><td> 752.7143 </td><td> 796.5    </td><td> 886.32143</td><td>1151.0    </td><td> 1.35188  </td><td> 0.71673  </td></tr>\n",
       "\t<tr><th scope=row>417</th><td> 384638   </td><td> 22       </td><td> 817.7727 </td><td> 827.00   </td><td>1062.9545 </td><td>1331.5    </td><td> 21       </td><td> 796.1905 </td><td> 800.0    </td><td>1044.47619</td><td>1258.0    </td><td> 1.33722  </td><td> 1.65950  </td></tr>\n",
       "\t<tr><th scope=row>567</th><td>1282887   </td><td> 29       </td><td> 874.2069 </td><td> 952.00   </td><td>1220.9310 </td><td>1404.0    </td><td> 28       </td><td> 853.1786 </td><td> 901.0    </td><td>1186.78571</td><td>1408.0    </td><td> 1.21735  </td><td> 2.75229  </td></tr>\n",
       "\t<tr><th scope=row>569</th><td>1286820   </td><td> 38       </td><td>1236.8947 </td><td>1308.00   </td><td>1354.0526 </td><td>1410.0    </td><td> 41       </td><td>1208.4634 </td><td>1260.0    </td><td>1354.36585</td><td>1410.0    </td><td> 1.16266  </td><td> 1.86916  </td></tr>\n",
       "\t<tr><th scope=row>169</th><td>  36834   </td><td>177       </td><td> 973.0452 </td><td>1042.00   </td><td> 982.5593 </td><td>1195.0    </td><td>169       </td><td> 950.7692 </td><td>1029.0    </td><td> 973.71598</td><td>1188.0    </td><td> 1.15791  </td><td> 0.62772  </td></tr>\n",
       "\t<tr><th scope=row>574</th><td>1297793   </td><td> 12       </td><td>1033.3333 </td><td>1025.50   </td><td>1280.5000 </td><td>1367.5    </td><td> 11       </td><td>1012.5455 </td><td> 990.0    </td><td>1265.72727</td><td>1332.0    </td><td> 1.01609  </td><td> 1.76135  </td></tr>\n",
       "\t<tr><th scope=row>312</th><td> 179628   </td><td>  7       </td><td> 792.2857 </td><td> 828.00   </td><td>1047.5714 </td><td>1162.0    </td><td>  6       </td><td> 777.1667 </td><td> 820.5    </td><td>1020.16667</td><td>1062.0    </td><td> 0.96333  </td><td> 0.45496  </td></tr>\n",
       "\t<tr><th scope=row>578</th><td>1325933   </td><td> 30       </td><td> 693.0000 </td><td> 611.00   </td><td> 959.2333 </td><td> 959.5    </td><td> 28       </td><td> 680.2500 </td><td> 571.0    </td><td> 941.28571</td><td> 916.5    </td><td> 0.92845  </td><td> 3.38409  </td></tr>\n",
       "\t<tr><th scope=row>494</th><td> 760570   </td><td> 43       </td><td>1016.2093 </td><td>1053.00   </td><td>1076.8140 </td><td>1340.0    </td><td> 41       </td><td> 997.8780 </td><td>1053.0    </td><td>1065.97561</td><td>1340.0    </td><td> 0.91015  </td><td> 0.00000  </td></tr>\n",
       "\t<tr><th scope=row>448</th><td> 471875   </td><td>176       </td><td> 967.8750 </td><td>1053.00   </td><td>1097.8352 </td><td>1295.5    </td><td>172       </td><td> 950.4593 </td><td>1034.0    </td><td>1085.19186</td><td>1284.0    </td><td> 0.90786  </td><td> 0.91040  </td></tr>\n",
       "\t<tr><th scope=row>⋮</th><td>⋮</td><td>⋮</td><td>⋮</td><td>⋮</td><td>⋮</td><td>⋮</td><td>⋮</td><td>⋮</td><td>⋮</td><td>⋮</td><td>⋮</td><td>⋮</td><td>⋮</td></tr>\n",
       "\t<tr><th scope=row>212</th><td>  46867  </td><td>464      </td><td>1300.2328</td><td>1380.0   </td><td>1311.2759</td><td>1406.0   </td><td>499      </td><td>1314.1964</td><td>1399.0   </td><td>1315.2886</td><td>1406.0   </td><td> 0.53410 </td><td> 0.68370 </td></tr>\n",
       "\t<tr><th scope=row>211</th><td>  46609  </td><td>  2      </td><td>1115.0000</td><td>1115.0   </td><td>1402.5000</td><td>1402.5   </td><td>  4      </td><td>1127.5000</td><td>1140.0   </td><td>1396.2500</td><td>1392.0   </td><td> 0.55741 </td><td> 1.10865 </td></tr>\n",
       "\t<tr><th scope=row>397</th><td> 341220  </td><td> 35      </td><td> 977.4286</td><td> 981.0   </td><td>1288.2000</td><td>1424.0   </td><td> 34      </td><td> 988.8824</td><td> 988.5   </td><td>1292.5588</td><td>1422.0   </td><td> 0.58250 </td><td> 0.38081 </td></tr>\n",
       "\t<tr><th scope=row>682</th><td>1917868  </td><td> 44      </td><td> 738.6818</td><td> 747.5   </td><td> 991.7273</td><td>1135.0   </td><td> 43      </td><td> 747.8605</td><td> 780.0   </td><td>1005.8140</td><td>1140.0   </td><td> 0.61745 </td><td> 2.12766 </td></tr>\n",
       "\t<tr><th scope=row>251</th><td>  84031  </td><td> 98      </td><td>1118.2245</td><td>1130.0   </td><td>1266.2143</td><td>1352.0   </td><td>100      </td><td>1132.1500</td><td>1165.5   </td><td>1266.9500</td><td>1359.5   </td><td> 0.61881 </td><td> 1.54650 </td></tr>\n",
       "\t<tr><th scope=row>321</th><td> 186802  </td><td>178      </td><td> 545.3556</td><td> 377.0   </td><td> 660.0056</td><td> 401.5   </td><td>178      </td><td> 552.2433</td><td> 380.0   </td><td> 664.6742</td><td> 401.5   </td><td> 0.62752 </td><td> 0.39630 </td></tr>\n",
       "\t<tr><th scope=row>313</th><td> 180164  </td><td>135      </td><td>1059.5704</td><td>1105.0   </td><td>1207.6222</td><td>1310.0   </td><td>147      </td><td>1073.4830</td><td>1114.0   </td><td>1216.5374</td><td>1320.0   </td><td> 0.65224 </td><td> 0.40559 </td></tr>\n",
       "\t<tr><th scope=row>114</th><td>  28037  </td><td> 15      </td><td>1098.1333</td><td>1131.0   </td><td>1120.2000</td><td>1385.0   </td><td> 16      </td><td>1116.4375</td><td>1182.5   </td><td>1139.5625</td><td>1403.5   </td><td> 0.82653 </td><td> 2.22606 </td></tr>\n",
       "\t<tr><th scope=row>64</th><td>   1504  </td><td> 48      </td><td> 830.4167</td><td> 853.5   </td><td>1053.8333</td><td>1177.5   </td><td> 49      </td><td> 846.0204</td><td> 872.0   </td><td>1061.6735</td><td>1181.0   </td><td> 0.93077 </td><td> 1.07215 </td></tr>\n",
       "\t<tr><th scope=row>341</th><td> 208479  </td><td>143      </td><td>1096.7762</td><td>1123.0   </td><td>1317.9231</td><td>1418.0   </td><td>151      </td><td>1117.5629</td><td>1142.0   </td><td>1318.9603</td><td>1418.0   </td><td> 0.93873 </td><td> 0.83885 </td></tr>\n",
       "\t<tr><th scope=row>663</th><td>1796636  </td><td> 35      </td><td> 388.0286</td><td> 309.0   </td><td> 525.4286</td><td> 313.0   </td><td> 33      </td><td> 395.7273</td><td> 315.0   </td><td> 534.7273</td><td> 313.0   </td><td> 0.98228 </td><td> 0.96154 </td></tr>\n",
       "\t<tr><th scope=row>286</th><td> 132925  </td><td> 12      </td><td> 915.1667</td><td> 933.0   </td><td>1249.8333</td><td>1369.5   </td><td> 11      </td><td> 933.6364</td><td> 957.0   </td><td>1255.5455</td><td>1374.0   </td><td> 0.99901 </td><td> 1.26984 </td></tr>\n",
       "\t<tr><th scope=row>406</th><td> 358743  </td><td> 23      </td><td> 616.2174</td><td> 499.0   </td><td> 846.1739</td><td>1069.0   </td><td> 24      </td><td> 629.5000</td><td> 513.0   </td><td> 857.8750</td><td>1094.5   </td><td> 1.06626 </td><td> 1.38340 </td></tr>\n",
       "\t<tr><th scope=row>43</th><td>   1304  </td><td> 39      </td><td>1018.6154</td><td>1103.0   </td><td>1111.6410</td><td>1227.0   </td><td> 41      </td><td>1042.1220</td><td>1103.0   </td><td>1114.8293</td><td>1227.0   </td><td> 1.14069 </td><td> 0.00000 </td></tr>\n",
       "\t<tr><th scope=row>217</th><td>  52704  </td><td> 62      </td><td> 861.4355</td><td> 851.0   </td><td>1097.9516</td><td>1194.5   </td><td> 64      </td><td> 885.4531</td><td> 883.0   </td><td>1112.0000</td><td>1194.5   </td><td> 1.37488 </td><td> 1.84544 </td></tr>\n",
       "\t<tr><th scope=row>268</th><td>  99656  </td><td> 22      </td><td> 996.4545</td><td>1087.5   </td><td>1236.0455</td><td>1427.5   </td><td> 25      </td><td>1026.2000</td><td>1099.0   </td><td>1275.7600</td><td>1432.0   </td><td> 1.47061 </td><td> 0.52595 </td></tr>\n",
       "\t<tr><th scope=row>154</th><td>  33034  </td><td>  6      </td><td> 178.3333</td><td> 172.5   </td><td> 319.3333</td><td> 307.0   </td><td>  5      </td><td> 184.0000</td><td> 193.0   </td><td> 323.6000</td><td> 316.0   </td><td> 1.56394 </td><td> 5.60876 </td></tr>\n",
       "\t<tr><th scope=row>199</th><td>  42322  </td><td>  9      </td><td> 647.8889</td><td> 640.0   </td><td>1067.5556</td><td>1151.0   </td><td>  9      </td><td> 675.4444</td><td> 640.0   </td><td>1067.0000</td><td>1151.0   </td><td> 2.08228 </td><td> 0.00000 </td></tr>\n",
       "\t<tr><th scope=row>94</th><td>   1561  </td><td> 18      </td><td> 884.8889</td><td> 925.0   </td><td>1046.3889</td><td>1231.0   </td><td> 19      </td><td> 923.0000</td><td>1050.0   </td><td>1065.1053</td><td>1307.0   </td><td> 2.10804 </td><td> 6.32911 </td></tr>\n",
       "\t<tr><th scope=row>44</th><td>   1305  </td><td>  4      </td><td> 856.5000</td><td> 864.0   </td><td> 967.7500</td><td>1027.0   </td><td>  5      </td><td> 898.0000</td><td>1057.0   </td><td>1045.8000</td><td>1210.0   </td><td> 2.36535 </td><td>10.04685 </td></tr>\n",
       "\t<tr><th scope=row>490</th><td> 706562  </td><td> 12      </td><td> 917.5000</td><td> 885.0   </td><td>1173.3333</td><td>1334.5   </td><td> 11      </td><td> 981.7273</td><td> 913.0   </td><td>1254.0000</td><td>1341.0   </td><td> 3.38176 </td><td> 1.55729 </td></tr>\n",
       "\t<tr><th scope=row>587</th><td>1348613  </td><td>  4      </td><td> 703.2500</td><td> 669.0   </td><td>1143.0000</td><td>1170.5   </td><td>  5      </td><td> 754.8000</td><td> 719.0   </td><td>1204.0000</td><td>1178.0   </td><td> 3.53554 </td><td> 3.60231 </td></tr>\n",
       "\t<tr><th scope=row>522</th><td>1096246  </td><td>  2      </td><td> 483.5000</td><td> 483.5   </td><td>1200.5000</td><td>1200.5   </td><td>  3      </td><td> 533.6667</td><td> 555.0   </td><td>1171.6667</td><td>1184.0   </td><td> 4.93200 </td><td> 6.88493 </td></tr>\n",
       "\t<tr><th scope=row>557</th><td>1211817  </td><td> 14      </td><td> 771.2143</td><td> 892.5   </td><td>1116.0000</td><td>1400.0   </td><td> 12      </td><td> 861.3333</td><td> 906.5   </td><td>1228.5833</td><td>1401.5   </td><td> 5.52015 </td><td> 0.77821 </td></tr>\n",
       "\t<tr><th scope=row>132</th><td>  29347  </td><td> 20      </td><td> 471.2200</td><td> 394.5   </td><td> 495.6000</td><td> 358.0   </td><td> 21      </td><td> 542.1143</td><td> 401.0   </td><td> 559.9524</td><td> 358.0   </td><td> 6.99614 </td><td> 0.81710 </td></tr>\n",
       "\t<tr><th scope=row>36</th><td>   1267  </td><td>  8      </td><td> 557.2500</td><td> 561.0   </td><td> 677.7500</td><td> 698.0   </td><td>  9      </td><td> 666.7778</td><td> 566.0   </td><td> 754.8889</td><td> 770.0   </td><td> 8.94814 </td><td> 0.44366 </td></tr>\n",
       "\t<tr><th scope=row>108</th><td>   1730  </td><td>  1      </td><td> 193.0000</td><td> 193.0   </td><td> 306.0000</td><td> 306.0   </td><td>  2      </td><td> 244.5000</td><td> 244.5   </td><td> 399.0000</td><td> 399.0   </td><td>11.77143 </td><td>11.77143 </td></tr>\n",
       "\t<tr><th scope=row>634</th><td>1648214  </td><td>  1      </td><td> 549.0000</td><td> 549.0   </td><td> 773.0000</td><td> 773.0   </td><td>  2      </td><td> 760.5000</td><td> 760.5   </td><td> 974.0000</td><td> 974.0   </td><td>16.15120 </td><td>16.15120 </td></tr>\n",
       "\t<tr><th scope=row>127</th><td>  28221  </td><td>  1      </td><td> 135.0000</td><td> 135.0   </td><td> 164.0000</td><td> 164.0   </td><td>  2      </td><td> 218.5000</td><td> 218.5   </td><td> 315.0000</td><td> 315.0   </td><td>23.62093 </td><td>23.62093 </td></tr>\n",
       "\t<tr><th scope=row>599</th><td>1432052  </td><td>  1      </td><td> 158.0000</td><td> 158.0   </td><td> 132.0000</td><td> 132.0   </td><td>  2      </td><td> 500.5000</td><td> 500.5   </td><td> 726.5000</td><td> 726.5   </td><td>52.01215 </td><td>52.01215 </td></tr>\n",
       "</tbody>\n",
       "</table>\n"
      ],
      "text/latex": [
       "\\begin{tabular}{r|lllllllllllll}\n",
       "  & taxid & count\\_10 & mean\\_bit\\_score\\_10 & median\\_bit\\_score\\_10 & mean\\_len\\_10 & median\\_len\\_10 & count\\_15 & mean\\_bit\\_score\\_15 & median\\_bit\\_score\\_15 & mean\\_len\\_15 & median\\_len\\_15 & dif\\_mean & dif\\_median\\\\\n",
       "\\hline\n",
       "\t263 &   91061    &   2        &  283.0000  &  283.00    &  411.0000  &  411.0     &   1        &  100.0000  &  100.0     &   58.00000 &   58.0     & 47.78068   & 47.78068  \\\\\n",
       "\t395 &  338193    &   1        &  279.0000  &  279.00    &  504.0000  &  504.0     &   2        &  200.0000  &  200.0     &  415.00000 &  415.0     & 16.49269   & 16.49269  \\\\\n",
       "\t41 &    1302    &   3        & 1217.6667  & 1275.00    & 1239.0000  & 1379.0     &   2        &  977.5000  &  977.5     & 1139.00000 & 1139.0     & 10.94070   & 13.20755  \\\\\n",
       "\t265 &   94868    &  12        &  663.9167  &  557.50    &  780.6667  &  651.5     &  11        &  533.1818  &  298.0     &  619.00000 &  366.0     & 10.92098   & 30.33314  \\\\\n",
       "\t252 &   84037    &  14        &  498.3571  &  377.50    &  740.5714  &  658.0     &  12        &  407.4167  &  269.0     &  645.83333 &  299.5     & 10.04009   & 16.78268  \\\\\n",
       "\t176 &   37659    &   8        &  729.2500  &  841.00    &  925.5000  & 1133.5     &   7        &  611.4286  &  640.0     &  824.00000 &  956.0     &  8.78819   & 13.57191  \\\\\n",
       "\t139 &   29364    &   3        &  822.3333  &  767.00    & 1228.0000  & 1439.0     &   4        &  719.7500  &  688.5     & 1102.75000 & 1116.5     &  6.65226   &  5.39334  \\\\\n",
       "\t181 &   38304    &   5        & 1213.6000  & 1175.00    & 1164.4000  & 1316.0     &   4        & 1068.0000  & 1021.0     & 1118.00000 & 1232.0     &  6.38149   &  7.01275  \\\\\n",
       "\t413 &  371674    &   4        &  692.2500  &  664.50    & 1044.7500  & 1178.5     &   3        &  612.0000  &  518.0     & 1007.00000 & 1199.0     &  6.15296   & 12.38901  \\\\\n",
       "\t617 & 1506553    &  39        &  903.0000  & 1011.00    & 1082.3077  & 1337.0     &  34        &  816.4118  &  901.5     & 1005.02941 & 1243.0     &  5.03592   &  5.72549  \\\\\n",
       "\t539 & 1157312    &   8        &  629.3750  &  584.00    & 1026.5000  & 1174.5     &   7        &  580.1429  &  556.0     & 1005.71429 & 1175.0     &  4.07039   &  2.45614  \\\\\n",
       "\t645 & 1720294    &   4        &  765.7500  &  863.00    & 1036.7500  & 1176.0     &   3        &  707.0000  &  784.0     &  986.00000 & 1163.0     &  3.98914   &  4.79660  \\\\\n",
       "\t279 &  115544    &   8        &  849.2500  &  873.50    & 1155.6250  & 1235.5     &   7        &  791.1429  &  760.0     & 1118.85714 & 1189.0     &  3.54227   &  6.94827  \\\\\n",
       "\t351 &  225345    &  13        &  763.3077  &  721.00    & 1018.0000  & 1395.0     &  12        &  715.7500  &  676.5     &  985.41667 & 1337.5     &  3.21540   &  3.18426  \\\\\n",
       "\t192 &   39495    &  15        &  765.4667  &  822.00    & 1022.3333  & 1421.0     &  16        &  726.1875  &  800.0     &  980.18750 & 1254.5     &  2.63326   &  1.35635  \\\\\n",
       "\t590 & 1380675    &   3        &  801.3333  &  715.00    & 1320.6667  & 1390.0     &   4        &  764.5000  &  685.5     & 1288.75000 & 1291.5     &  2.35232   &  2.10639  \\\\\n",
       "\t28 &     841    &  27        & 1023.4444  & 1142.00    & 1172.1111  & 1411.0     &  26        &  985.3077  & 1088.5     & 1158.96154 & 1406.0     &  1.89853   &  2.39857  \\\\\n",
       "\t165 &   35785    &  12        &  786.4167  &  940.00    &  909.3333  & 1199.0     &  11        &  757.6364  &  893.0     &  890.18182 & 1201.0     &  1.86395   &  2.56410  \\\\\n",
       "\t405 &  358742    &  18        &  614.6111  &  594.50    &  749.1111  &  661.0     &  18        &  595.9444  &  590.0     &  752.72222 &  661.0     &  1.54199   &  0.37991  \\\\\n",
       "\t655 & 1783272    &  10        &   69.7800  &   66.65    &   43.4000  &   41.0     &  11        &   67.9000  &   60.2     &   43.45455 &   44.0     &  1.36549   &  5.08475  \\\\\n",
       "\t657 & 1796615    &  29        &  773.3448  &  808.00    &  899.3793  & 1152.0     &  28        &  752.7143  &  796.5     &  886.32143 & 1151.0     &  1.35188   &  0.71673  \\\\\n",
       "\t417 &  384638    &  22        &  817.7727  &  827.00    & 1062.9545  & 1331.5     &  21        &  796.1905  &  800.0     & 1044.47619 & 1258.0     &  1.33722   &  1.65950  \\\\\n",
       "\t567 & 1282887    &  29        &  874.2069  &  952.00    & 1220.9310  & 1404.0     &  28        &  853.1786  &  901.0     & 1186.78571 & 1408.0     &  1.21735   &  2.75229  \\\\\n",
       "\t569 & 1286820    &  38        & 1236.8947  & 1308.00    & 1354.0526  & 1410.0     &  41        & 1208.4634  & 1260.0     & 1354.36585 & 1410.0     &  1.16266   &  1.86916  \\\\\n",
       "\t169 &   36834    & 177        &  973.0452  & 1042.00    &  982.5593  & 1195.0     & 169        &  950.7692  & 1029.0     &  973.71598 & 1188.0     &  1.15791   &  0.62772  \\\\\n",
       "\t574 & 1297793    &  12        & 1033.3333  & 1025.50    & 1280.5000  & 1367.5     &  11        & 1012.5455  &  990.0     & 1265.72727 & 1332.0     &  1.01609   &  1.76135  \\\\\n",
       "\t312 &  179628    &   7        &  792.2857  &  828.00    & 1047.5714  & 1162.0     &   6        &  777.1667  &  820.5     & 1020.16667 & 1062.0     &  0.96333   &  0.45496  \\\\\n",
       "\t578 & 1325933    &  30        &  693.0000  &  611.00    &  959.2333  &  959.5     &  28        &  680.2500  &  571.0     &  941.28571 &  916.5     &  0.92845   &  3.38409  \\\\\n",
       "\t494 &  760570    &  43        & 1016.2093  & 1053.00    & 1076.8140  & 1340.0     &  41        &  997.8780  & 1053.0     & 1065.97561 & 1340.0     &  0.91015   &  0.00000  \\\\\n",
       "\t448 &  471875    & 176        &  967.8750  & 1053.00    & 1097.8352  & 1295.5     & 172        &  950.4593  & 1034.0     & 1085.19186 & 1284.0     &  0.90786   &  0.91040  \\\\\n",
       "\t⋮ & ⋮ & ⋮ & ⋮ & ⋮ & ⋮ & ⋮ & ⋮ & ⋮ & ⋮ & ⋮ & ⋮ & ⋮ & ⋮\\\\\n",
       "\t212 &   46867   & 464       & 1300.2328 & 1380.0    & 1311.2759 & 1406.0    & 499       & 1314.1964 & 1399.0    & 1315.2886 & 1406.0    &  0.53410  &  0.68370 \\\\\n",
       "\t211 &   46609   &   2       & 1115.0000 & 1115.0    & 1402.5000 & 1402.5    &   4       & 1127.5000 & 1140.0    & 1396.2500 & 1392.0    &  0.55741  &  1.10865 \\\\\n",
       "\t397 &  341220   &  35       &  977.4286 &  981.0    & 1288.2000 & 1424.0    &  34       &  988.8824 &  988.5    & 1292.5588 & 1422.0    &  0.58250  &  0.38081 \\\\\n",
       "\t682 & 1917868   &  44       &  738.6818 &  747.5    &  991.7273 & 1135.0    &  43       &  747.8605 &  780.0    & 1005.8140 & 1140.0    &  0.61745  &  2.12766 \\\\\n",
       "\t251 &   84031   &  98       & 1118.2245 & 1130.0    & 1266.2143 & 1352.0    & 100       & 1132.1500 & 1165.5    & 1266.9500 & 1359.5    &  0.61881  &  1.54650 \\\\\n",
       "\t321 &  186802   & 178       &  545.3556 &  377.0    &  660.0056 &  401.5    & 178       &  552.2433 &  380.0    &  664.6742 &  401.5    &  0.62752  &  0.39630 \\\\\n",
       "\t313 &  180164   & 135       & 1059.5704 & 1105.0    & 1207.6222 & 1310.0    & 147       & 1073.4830 & 1114.0    & 1216.5374 & 1320.0    &  0.65224  &  0.40559 \\\\\n",
       "\t114 &   28037   &  15       & 1098.1333 & 1131.0    & 1120.2000 & 1385.0    &  16       & 1116.4375 & 1182.5    & 1139.5625 & 1403.5    &  0.82653  &  2.22606 \\\\\n",
       "\t64 &    1504   &  48       &  830.4167 &  853.5    & 1053.8333 & 1177.5    &  49       &  846.0204 &  872.0    & 1061.6735 & 1181.0    &  0.93077  &  1.07215 \\\\\n",
       "\t341 &  208479   & 143       & 1096.7762 & 1123.0    & 1317.9231 & 1418.0    & 151       & 1117.5629 & 1142.0    & 1318.9603 & 1418.0    &  0.93873  &  0.83885 \\\\\n",
       "\t663 & 1796636   &  35       &  388.0286 &  309.0    &  525.4286 &  313.0    &  33       &  395.7273 &  315.0    &  534.7273 &  313.0    &  0.98228  &  0.96154 \\\\\n",
       "\t286 &  132925   &  12       &  915.1667 &  933.0    & 1249.8333 & 1369.5    &  11       &  933.6364 &  957.0    & 1255.5455 & 1374.0    &  0.99901  &  1.26984 \\\\\n",
       "\t406 &  358743   &  23       &  616.2174 &  499.0    &  846.1739 & 1069.0    &  24       &  629.5000 &  513.0    &  857.8750 & 1094.5    &  1.06626  &  1.38340 \\\\\n",
       "\t43 &    1304   &  39       & 1018.6154 & 1103.0    & 1111.6410 & 1227.0    &  41       & 1042.1220 & 1103.0    & 1114.8293 & 1227.0    &  1.14069  &  0.00000 \\\\\n",
       "\t217 &   52704   &  62       &  861.4355 &  851.0    & 1097.9516 & 1194.5    &  64       &  885.4531 &  883.0    & 1112.0000 & 1194.5    &  1.37488  &  1.84544 \\\\\n",
       "\t268 &   99656   &  22       &  996.4545 & 1087.5    & 1236.0455 & 1427.5    &  25       & 1026.2000 & 1099.0    & 1275.7600 & 1432.0    &  1.47061  &  0.52595 \\\\\n",
       "\t154 &   33034   &   6       &  178.3333 &  172.5    &  319.3333 &  307.0    &   5       &  184.0000 &  193.0    &  323.6000 &  316.0    &  1.56394  &  5.60876 \\\\\n",
       "\t199 &   42322   &   9       &  647.8889 &  640.0    & 1067.5556 & 1151.0    &   9       &  675.4444 &  640.0    & 1067.0000 & 1151.0    &  2.08228  &  0.00000 \\\\\n",
       "\t94 &    1561   &  18       &  884.8889 &  925.0    & 1046.3889 & 1231.0    &  19       &  923.0000 & 1050.0    & 1065.1053 & 1307.0    &  2.10804  &  6.32911 \\\\\n",
       "\t44 &    1305   &   4       &  856.5000 &  864.0    &  967.7500 & 1027.0    &   5       &  898.0000 & 1057.0    & 1045.8000 & 1210.0    &  2.36535  & 10.04685 \\\\\n",
       "\t490 &  706562   &  12       &  917.5000 &  885.0    & 1173.3333 & 1334.5    &  11       &  981.7273 &  913.0    & 1254.0000 & 1341.0    &  3.38176  &  1.55729 \\\\\n",
       "\t587 & 1348613   &   4       &  703.2500 &  669.0    & 1143.0000 & 1170.5    &   5       &  754.8000 &  719.0    & 1204.0000 & 1178.0    &  3.53554  &  3.60231 \\\\\n",
       "\t522 & 1096246   &   2       &  483.5000 &  483.5    & 1200.5000 & 1200.5    &   3       &  533.6667 &  555.0    & 1171.6667 & 1184.0    &  4.93200  &  6.88493 \\\\\n",
       "\t557 & 1211817   &  14       &  771.2143 &  892.5    & 1116.0000 & 1400.0    &  12       &  861.3333 &  906.5    & 1228.5833 & 1401.5    &  5.52015  &  0.77821 \\\\\n",
       "\t132 &   29347   &  20       &  471.2200 &  394.5    &  495.6000 &  358.0    &  21       &  542.1143 &  401.0    &  559.9524 &  358.0    &  6.99614  &  0.81710 \\\\\n",
       "\t36 &    1267   &   8       &  557.2500 &  561.0    &  677.7500 &  698.0    &   9       &  666.7778 &  566.0    &  754.8889 &  770.0    &  8.94814  &  0.44366 \\\\\n",
       "\t108 &    1730   &   1       &  193.0000 &  193.0    &  306.0000 &  306.0    &   2       &  244.5000 &  244.5    &  399.0000 &  399.0    & 11.77143  & 11.77143 \\\\\n",
       "\t634 & 1648214   &   1       &  549.0000 &  549.0    &  773.0000 &  773.0    &   2       &  760.5000 &  760.5    &  974.0000 &  974.0    & 16.15120  & 16.15120 \\\\\n",
       "\t127 &   28221   &   1       &  135.0000 &  135.0    &  164.0000 &  164.0    &   2       &  218.5000 &  218.5    &  315.0000 &  315.0    & 23.62093  & 23.62093 \\\\\n",
       "\t599 & 1432052   &   1       &  158.0000 &  158.0    &  132.0000 &  132.0    &   2       &  500.5000 &  500.5    &  726.5000 &  726.5    & 52.01215  & 52.01215 \\\\\n",
       "\\end{tabular}\n"
      ],
      "text/markdown": [
       "\n",
       "| <!--/--> | taxid | count_10 | mean_bit_score_10 | median_bit_score_10 | mean_len_10 | median_len_10 | count_15 | mean_bit_score_15 | median_bit_score_15 | mean_len_15 | median_len_15 | dif_mean | dif_median | \n",
       "|---|---|---|---|---|---|---|---|---|---|---|---|---|---|---|---|---|---|---|---|---|---|---|---|---|---|---|---|---|---|---|---|---|---|---|---|---|---|---|---|---|---|---|---|---|---|---|---|---|---|---|---|---|---|---|---|---|---|---|---|---|\n",
       "| 263 |   91061    |   2        |  283.0000  |  283.00    |  411.0000  |  411.0     |   1        |  100.0000  |  100.0     |   58.00000 |   58.0     | 47.78068   | 47.78068   | \n",
       "| 395 |  338193    |   1        |  279.0000  |  279.00    |  504.0000  |  504.0     |   2        |  200.0000  |  200.0     |  415.00000 |  415.0     | 16.49269   | 16.49269   | \n",
       "| 41 |    1302    |   3        | 1217.6667  | 1275.00    | 1239.0000  | 1379.0     |   2        |  977.5000  |  977.5     | 1139.00000 | 1139.0     | 10.94070   | 13.20755   | \n",
       "| 265 |   94868    |  12        |  663.9167  |  557.50    |  780.6667  |  651.5     |  11        |  533.1818  |  298.0     |  619.00000 |  366.0     | 10.92098   | 30.33314   | \n",
       "| 252 |   84037    |  14        |  498.3571  |  377.50    |  740.5714  |  658.0     |  12        |  407.4167  |  269.0     |  645.83333 |  299.5     | 10.04009   | 16.78268   | \n",
       "| 176 |   37659    |   8        |  729.2500  |  841.00    |  925.5000  | 1133.5     |   7        |  611.4286  |  640.0     |  824.00000 |  956.0     |  8.78819   | 13.57191   | \n",
       "| 139 |   29364    |   3        |  822.3333  |  767.00    | 1228.0000  | 1439.0     |   4        |  719.7500  |  688.5     | 1102.75000 | 1116.5     |  6.65226   |  5.39334   | \n",
       "| 181 |   38304    |   5        | 1213.6000  | 1175.00    | 1164.4000  | 1316.0     |   4        | 1068.0000  | 1021.0     | 1118.00000 | 1232.0     |  6.38149   |  7.01275   | \n",
       "| 413 |  371674    |   4        |  692.2500  |  664.50    | 1044.7500  | 1178.5     |   3        |  612.0000  |  518.0     | 1007.00000 | 1199.0     |  6.15296   | 12.38901   | \n",
       "| 617 | 1506553    |  39        |  903.0000  | 1011.00    | 1082.3077  | 1337.0     |  34        |  816.4118  |  901.5     | 1005.02941 | 1243.0     |  5.03592   |  5.72549   | \n",
       "| 539 | 1157312    |   8        |  629.3750  |  584.00    | 1026.5000  | 1174.5     |   7        |  580.1429  |  556.0     | 1005.71429 | 1175.0     |  4.07039   |  2.45614   | \n",
       "| 645 | 1720294    |   4        |  765.7500  |  863.00    | 1036.7500  | 1176.0     |   3        |  707.0000  |  784.0     |  986.00000 | 1163.0     |  3.98914   |  4.79660   | \n",
       "| 279 |  115544    |   8        |  849.2500  |  873.50    | 1155.6250  | 1235.5     |   7        |  791.1429  |  760.0     | 1118.85714 | 1189.0     |  3.54227   |  6.94827   | \n",
       "| 351 |  225345    |  13        |  763.3077  |  721.00    | 1018.0000  | 1395.0     |  12        |  715.7500  |  676.5     |  985.41667 | 1337.5     |  3.21540   |  3.18426   | \n",
       "| 192 |   39495    |  15        |  765.4667  |  822.00    | 1022.3333  | 1421.0     |  16        |  726.1875  |  800.0     |  980.18750 | 1254.5     |  2.63326   |  1.35635   | \n",
       "| 590 | 1380675    |   3        |  801.3333  |  715.00    | 1320.6667  | 1390.0     |   4        |  764.5000  |  685.5     | 1288.75000 | 1291.5     |  2.35232   |  2.10639   | \n",
       "| 28 |     841    |  27        | 1023.4444  | 1142.00    | 1172.1111  | 1411.0     |  26        |  985.3077  | 1088.5     | 1158.96154 | 1406.0     |  1.89853   |  2.39857   | \n",
       "| 165 |   35785    |  12        |  786.4167  |  940.00    |  909.3333  | 1199.0     |  11        |  757.6364  |  893.0     |  890.18182 | 1201.0     |  1.86395   |  2.56410   | \n",
       "| 405 |  358742    |  18        |  614.6111  |  594.50    |  749.1111  |  661.0     |  18        |  595.9444  |  590.0     |  752.72222 |  661.0     |  1.54199   |  0.37991   | \n",
       "| 655 | 1783272    |  10        |   69.7800  |   66.65    |   43.4000  |   41.0     |  11        |   67.9000  |   60.2     |   43.45455 |   44.0     |  1.36549   |  5.08475   | \n",
       "| 657 | 1796615    |  29        |  773.3448  |  808.00    |  899.3793  | 1152.0     |  28        |  752.7143  |  796.5     |  886.32143 | 1151.0     |  1.35188   |  0.71673   | \n",
       "| 417 |  384638    |  22        |  817.7727  |  827.00    | 1062.9545  | 1331.5     |  21        |  796.1905  |  800.0     | 1044.47619 | 1258.0     |  1.33722   |  1.65950   | \n",
       "| 567 | 1282887    |  29        |  874.2069  |  952.00    | 1220.9310  | 1404.0     |  28        |  853.1786  |  901.0     | 1186.78571 | 1408.0     |  1.21735   |  2.75229   | \n",
       "| 569 | 1286820    |  38        | 1236.8947  | 1308.00    | 1354.0526  | 1410.0     |  41        | 1208.4634  | 1260.0     | 1354.36585 | 1410.0     |  1.16266   |  1.86916   | \n",
       "| 169 |   36834    | 177        |  973.0452  | 1042.00    |  982.5593  | 1195.0     | 169        |  950.7692  | 1029.0     |  973.71598 | 1188.0     |  1.15791   |  0.62772   | \n",
       "| 574 | 1297793    |  12        | 1033.3333  | 1025.50    | 1280.5000  | 1367.5     |  11        | 1012.5455  |  990.0     | 1265.72727 | 1332.0     |  1.01609   |  1.76135   | \n",
       "| 312 |  179628    |   7        |  792.2857  |  828.00    | 1047.5714  | 1162.0     |   6        |  777.1667  |  820.5     | 1020.16667 | 1062.0     |  0.96333   |  0.45496   | \n",
       "| 578 | 1325933    |  30        |  693.0000  |  611.00    |  959.2333  |  959.5     |  28        |  680.2500  |  571.0     |  941.28571 |  916.5     |  0.92845   |  3.38409   | \n",
       "| 494 |  760570    |  43        | 1016.2093  | 1053.00    | 1076.8140  | 1340.0     |  41        |  997.8780  | 1053.0     | 1065.97561 | 1340.0     |  0.91015   |  0.00000   | \n",
       "| 448 |  471875    | 176        |  967.8750  | 1053.00    | 1097.8352  | 1295.5     | 172        |  950.4593  | 1034.0     | 1085.19186 | 1284.0     |  0.90786   |  0.91040   | \n",
       "| ⋮ | ⋮ | ⋮ | ⋮ | ⋮ | ⋮ | ⋮ | ⋮ | ⋮ | ⋮ | ⋮ | ⋮ | ⋮ | ⋮ | \n",
       "| 212 |   46867   | 464       | 1300.2328 | 1380.0    | 1311.2759 | 1406.0    | 499       | 1314.1964 | 1399.0    | 1315.2886 | 1406.0    |  0.53410  |  0.68370  | \n",
       "| 211 |   46609   |   2       | 1115.0000 | 1115.0    | 1402.5000 | 1402.5    |   4       | 1127.5000 | 1140.0    | 1396.2500 | 1392.0    |  0.55741  |  1.10865  | \n",
       "| 397 |  341220   |  35       |  977.4286 |  981.0    | 1288.2000 | 1424.0    |  34       |  988.8824 |  988.5    | 1292.5588 | 1422.0    |  0.58250  |  0.38081  | \n",
       "| 682 | 1917868   |  44       |  738.6818 |  747.5    |  991.7273 | 1135.0    |  43       |  747.8605 |  780.0    | 1005.8140 | 1140.0    |  0.61745  |  2.12766  | \n",
       "| 251 |   84031   |  98       | 1118.2245 | 1130.0    | 1266.2143 | 1352.0    | 100       | 1132.1500 | 1165.5    | 1266.9500 | 1359.5    |  0.61881  |  1.54650  | \n",
       "| 321 |  186802   | 178       |  545.3556 |  377.0    |  660.0056 |  401.5    | 178       |  552.2433 |  380.0    |  664.6742 |  401.5    |  0.62752  |  0.39630  | \n",
       "| 313 |  180164   | 135       | 1059.5704 | 1105.0    | 1207.6222 | 1310.0    | 147       | 1073.4830 | 1114.0    | 1216.5374 | 1320.0    |  0.65224  |  0.40559  | \n",
       "| 114 |   28037   |  15       | 1098.1333 | 1131.0    | 1120.2000 | 1385.0    |  16       | 1116.4375 | 1182.5    | 1139.5625 | 1403.5    |  0.82653  |  2.22606  | \n",
       "| 64 |    1504   |  48       |  830.4167 |  853.5    | 1053.8333 | 1177.5    |  49       |  846.0204 |  872.0    | 1061.6735 | 1181.0    |  0.93077  |  1.07215  | \n",
       "| 341 |  208479   | 143       | 1096.7762 | 1123.0    | 1317.9231 | 1418.0    | 151       | 1117.5629 | 1142.0    | 1318.9603 | 1418.0    |  0.93873  |  0.83885  | \n",
       "| 663 | 1796636   |  35       |  388.0286 |  309.0    |  525.4286 |  313.0    |  33       |  395.7273 |  315.0    |  534.7273 |  313.0    |  0.98228  |  0.96154  | \n",
       "| 286 |  132925   |  12       |  915.1667 |  933.0    | 1249.8333 | 1369.5    |  11       |  933.6364 |  957.0    | 1255.5455 | 1374.0    |  0.99901  |  1.26984  | \n",
       "| 406 |  358743   |  23       |  616.2174 |  499.0    |  846.1739 | 1069.0    |  24       |  629.5000 |  513.0    |  857.8750 | 1094.5    |  1.06626  |  1.38340  | \n",
       "| 43 |    1304   |  39       | 1018.6154 | 1103.0    | 1111.6410 | 1227.0    |  41       | 1042.1220 | 1103.0    | 1114.8293 | 1227.0    |  1.14069  |  0.00000  | \n",
       "| 217 |   52704   |  62       |  861.4355 |  851.0    | 1097.9516 | 1194.5    |  64       |  885.4531 |  883.0    | 1112.0000 | 1194.5    |  1.37488  |  1.84544  | \n",
       "| 268 |   99656   |  22       |  996.4545 | 1087.5    | 1236.0455 | 1427.5    |  25       | 1026.2000 | 1099.0    | 1275.7600 | 1432.0    |  1.47061  |  0.52595  | \n",
       "| 154 |   33034   |   6       |  178.3333 |  172.5    |  319.3333 |  307.0    |   5       |  184.0000 |  193.0    |  323.6000 |  316.0    |  1.56394  |  5.60876  | \n",
       "| 199 |   42322   |   9       |  647.8889 |  640.0    | 1067.5556 | 1151.0    |   9       |  675.4444 |  640.0    | 1067.0000 | 1151.0    |  2.08228  |  0.00000  | \n",
       "| 94 |    1561   |  18       |  884.8889 |  925.0    | 1046.3889 | 1231.0    |  19       |  923.0000 | 1050.0    | 1065.1053 | 1307.0    |  2.10804  |  6.32911  | \n",
       "| 44 |    1305   |   4       |  856.5000 |  864.0    |  967.7500 | 1027.0    |   5       |  898.0000 | 1057.0    | 1045.8000 | 1210.0    |  2.36535  | 10.04685  | \n",
       "| 490 |  706562   |  12       |  917.5000 |  885.0    | 1173.3333 | 1334.5    |  11       |  981.7273 |  913.0    | 1254.0000 | 1341.0    |  3.38176  |  1.55729  | \n",
       "| 587 | 1348613   |   4       |  703.2500 |  669.0    | 1143.0000 | 1170.5    |   5       |  754.8000 |  719.0    | 1204.0000 | 1178.0    |  3.53554  |  3.60231  | \n",
       "| 522 | 1096246   |   2       |  483.5000 |  483.5    | 1200.5000 | 1200.5    |   3       |  533.6667 |  555.0    | 1171.6667 | 1184.0    |  4.93200  |  6.88493  | \n",
       "| 557 | 1211817   |  14       |  771.2143 |  892.5    | 1116.0000 | 1400.0    |  12       |  861.3333 |  906.5    | 1228.5833 | 1401.5    |  5.52015  |  0.77821  | \n",
       "| 132 |   29347   |  20       |  471.2200 |  394.5    |  495.6000 |  358.0    |  21       |  542.1143 |  401.0    |  559.9524 |  358.0    |  6.99614  |  0.81710  | \n",
       "| 36 |    1267   |   8       |  557.2500 |  561.0    |  677.7500 |  698.0    |   9       |  666.7778 |  566.0    |  754.8889 |  770.0    |  8.94814  |  0.44366  | \n",
       "| 108 |    1730   |   1       |  193.0000 |  193.0    |  306.0000 |  306.0    |   2       |  244.5000 |  244.5    |  399.0000 |  399.0    | 11.77143  | 11.77143  | \n",
       "| 634 | 1648214   |   1       |  549.0000 |  549.0    |  773.0000 |  773.0    |   2       |  760.5000 |  760.5    |  974.0000 |  974.0    | 16.15120  | 16.15120  | \n",
       "| 127 |   28221   |   1       |  135.0000 |  135.0    |  164.0000 |  164.0    |   2       |  218.5000 |  218.5    |  315.0000 |  315.0    | 23.62093  | 23.62093  | \n",
       "| 599 | 1432052   |   1       |  158.0000 |  158.0    |  132.0000 |  132.0    |   2       |  500.5000 |  500.5    |  726.5000 |  726.5    | 52.01215  | 52.01215  | \n",
       "\n",
       "\n"
      ],
      "text/plain": [
       "    taxid   count_10 mean_bit_score_10 median_bit_score_10 mean_len_10\n",
       "263   91061   2       283.0000          283.00              411.0000  \n",
       "395  338193   1       279.0000          279.00              504.0000  \n",
       "41     1302   3      1217.6667         1275.00             1239.0000  \n",
       "265   94868  12       663.9167          557.50              780.6667  \n",
       "252   84037  14       498.3571          377.50              740.5714  \n",
       "176   37659   8       729.2500          841.00              925.5000  \n",
       "139   29364   3       822.3333          767.00             1228.0000  \n",
       "181   38304   5      1213.6000         1175.00             1164.4000  \n",
       "413  371674   4       692.2500          664.50             1044.7500  \n",
       "617 1506553  39       903.0000         1011.00             1082.3077  \n",
       "539 1157312   8       629.3750          584.00             1026.5000  \n",
       "645 1720294   4       765.7500          863.00             1036.7500  \n",
       "279  115544   8       849.2500          873.50             1155.6250  \n",
       "351  225345  13       763.3077          721.00             1018.0000  \n",
       "192   39495  15       765.4667          822.00             1022.3333  \n",
       "590 1380675   3       801.3333          715.00             1320.6667  \n",
       "28      841  27      1023.4444         1142.00             1172.1111  \n",
       "165   35785  12       786.4167          940.00              909.3333  \n",
       "405  358742  18       614.6111          594.50              749.1111  \n",
       "655 1783272  10        69.7800           66.65               43.4000  \n",
       "657 1796615  29       773.3448          808.00              899.3793  \n",
       "417  384638  22       817.7727          827.00             1062.9545  \n",
       "567 1282887  29       874.2069          952.00             1220.9310  \n",
       "569 1286820  38      1236.8947         1308.00             1354.0526  \n",
       "169   36834 177       973.0452         1042.00              982.5593  \n",
       "574 1297793  12      1033.3333         1025.50             1280.5000  \n",
       "312  179628   7       792.2857          828.00             1047.5714  \n",
       "578 1325933  30       693.0000          611.00              959.2333  \n",
       "494  760570  43      1016.2093         1053.00             1076.8140  \n",
       "448  471875 176       967.8750         1053.00             1097.8352  \n",
       "⋮   ⋮       ⋮        ⋮                 ⋮                   ⋮          \n",
       "212   46867 464      1300.2328         1380.0              1311.2759  \n",
       "211   46609   2      1115.0000         1115.0              1402.5000  \n",
       "397  341220  35       977.4286          981.0              1288.2000  \n",
       "682 1917868  44       738.6818          747.5               991.7273  \n",
       "251   84031  98      1118.2245         1130.0              1266.2143  \n",
       "321  186802 178       545.3556          377.0               660.0056  \n",
       "313  180164 135      1059.5704         1105.0              1207.6222  \n",
       "114   28037  15      1098.1333         1131.0              1120.2000  \n",
       "64     1504  48       830.4167          853.5              1053.8333  \n",
       "341  208479 143      1096.7762         1123.0              1317.9231  \n",
       "663 1796636  35       388.0286          309.0               525.4286  \n",
       "286  132925  12       915.1667          933.0              1249.8333  \n",
       "406  358743  23       616.2174          499.0               846.1739  \n",
       "43     1304  39      1018.6154         1103.0              1111.6410  \n",
       "217   52704  62       861.4355          851.0              1097.9516  \n",
       "268   99656  22       996.4545         1087.5              1236.0455  \n",
       "154   33034   6       178.3333          172.5               319.3333  \n",
       "199   42322   9       647.8889          640.0              1067.5556  \n",
       "94     1561  18       884.8889          925.0              1046.3889  \n",
       "44     1305   4       856.5000          864.0               967.7500  \n",
       "490  706562  12       917.5000          885.0              1173.3333  \n",
       "587 1348613   4       703.2500          669.0              1143.0000  \n",
       "522 1096246   2       483.5000          483.5              1200.5000  \n",
       "557 1211817  14       771.2143          892.5              1116.0000  \n",
       "132   29347  20       471.2200          394.5               495.6000  \n",
       "36     1267   8       557.2500          561.0               677.7500  \n",
       "108    1730   1       193.0000          193.0               306.0000  \n",
       "634 1648214   1       549.0000          549.0               773.0000  \n",
       "127   28221   1       135.0000          135.0               164.0000  \n",
       "599 1432052   1       158.0000          158.0               132.0000  \n",
       "    median_len_10 count_15 mean_bit_score_15 median_bit_score_15 mean_len_15\n",
       "263  411.0          1       100.0000          100.0                58.00000 \n",
       "395  504.0          2       200.0000          200.0               415.00000 \n",
       "41  1379.0          2       977.5000          977.5              1139.00000 \n",
       "265  651.5         11       533.1818          298.0               619.00000 \n",
       "252  658.0         12       407.4167          269.0               645.83333 \n",
       "176 1133.5          7       611.4286          640.0               824.00000 \n",
       "139 1439.0          4       719.7500          688.5              1102.75000 \n",
       "181 1316.0          4      1068.0000         1021.0              1118.00000 \n",
       "413 1178.5          3       612.0000          518.0              1007.00000 \n",
       "617 1337.0         34       816.4118          901.5              1005.02941 \n",
       "539 1174.5          7       580.1429          556.0              1005.71429 \n",
       "645 1176.0          3       707.0000          784.0               986.00000 \n",
       "279 1235.5          7       791.1429          760.0              1118.85714 \n",
       "351 1395.0         12       715.7500          676.5               985.41667 \n",
       "192 1421.0         16       726.1875          800.0               980.18750 \n",
       "590 1390.0          4       764.5000          685.5              1288.75000 \n",
       "28  1411.0         26       985.3077         1088.5              1158.96154 \n",
       "165 1199.0         11       757.6364          893.0               890.18182 \n",
       "405  661.0         18       595.9444          590.0               752.72222 \n",
       "655   41.0         11        67.9000           60.2                43.45455 \n",
       "657 1152.0         28       752.7143          796.5               886.32143 \n",
       "417 1331.5         21       796.1905          800.0              1044.47619 \n",
       "567 1404.0         28       853.1786          901.0              1186.78571 \n",
       "569 1410.0         41      1208.4634         1260.0              1354.36585 \n",
       "169 1195.0        169       950.7692         1029.0               973.71598 \n",
       "574 1367.5         11      1012.5455          990.0              1265.72727 \n",
       "312 1162.0          6       777.1667          820.5              1020.16667 \n",
       "578  959.5         28       680.2500          571.0               941.28571 \n",
       "494 1340.0         41       997.8780         1053.0              1065.97561 \n",
       "448 1295.5        172       950.4593         1034.0              1085.19186 \n",
       "⋮   ⋮             ⋮        ⋮                 ⋮                   ⋮          \n",
       "212 1406.0        499      1314.1964         1399.0              1315.2886  \n",
       "211 1402.5          4      1127.5000         1140.0              1396.2500  \n",
       "397 1424.0         34       988.8824          988.5              1292.5588  \n",
       "682 1135.0         43       747.8605          780.0              1005.8140  \n",
       "251 1352.0        100      1132.1500         1165.5              1266.9500  \n",
       "321  401.5        178       552.2433          380.0               664.6742  \n",
       "313 1310.0        147      1073.4830         1114.0              1216.5374  \n",
       "114 1385.0         16      1116.4375         1182.5              1139.5625  \n",
       "64  1177.5         49       846.0204          872.0              1061.6735  \n",
       "341 1418.0        151      1117.5629         1142.0              1318.9603  \n",
       "663  313.0         33       395.7273          315.0               534.7273  \n",
       "286 1369.5         11       933.6364          957.0              1255.5455  \n",
       "406 1069.0         24       629.5000          513.0               857.8750  \n",
       "43  1227.0         41      1042.1220         1103.0              1114.8293  \n",
       "217 1194.5         64       885.4531          883.0              1112.0000  \n",
       "268 1427.5         25      1026.2000         1099.0              1275.7600  \n",
       "154  307.0          5       184.0000          193.0               323.6000  \n",
       "199 1151.0          9       675.4444          640.0              1067.0000  \n",
       "94  1231.0         19       923.0000         1050.0              1065.1053  \n",
       "44  1027.0          5       898.0000         1057.0              1045.8000  \n",
       "490 1334.5         11       981.7273          913.0              1254.0000  \n",
       "587 1170.5          5       754.8000          719.0              1204.0000  \n",
       "522 1200.5          3       533.6667          555.0              1171.6667  \n",
       "557 1400.0         12       861.3333          906.5              1228.5833  \n",
       "132  358.0         21       542.1143          401.0               559.9524  \n",
       "36   698.0          9       666.7778          566.0               754.8889  \n",
       "108  306.0          2       244.5000          244.5               399.0000  \n",
       "634  773.0          2       760.5000          760.5               974.0000  \n",
       "127  164.0          2       218.5000          218.5               315.0000  \n",
       "599  132.0          2       500.5000          500.5               726.5000  \n",
       "    median_len_15 dif_mean dif_median\n",
       "263   58.0        47.78068 47.78068  \n",
       "395  415.0        16.49269 16.49269  \n",
       "41  1139.0        10.94070 13.20755  \n",
       "265  366.0        10.92098 30.33314  \n",
       "252  299.5        10.04009 16.78268  \n",
       "176  956.0         8.78819 13.57191  \n",
       "139 1116.5         6.65226  5.39334  \n",
       "181 1232.0         6.38149  7.01275  \n",
       "413 1199.0         6.15296 12.38901  \n",
       "617 1243.0         5.03592  5.72549  \n",
       "539 1175.0         4.07039  2.45614  \n",
       "645 1163.0         3.98914  4.79660  \n",
       "279 1189.0         3.54227  6.94827  \n",
       "351 1337.5         3.21540  3.18426  \n",
       "192 1254.5         2.63326  1.35635  \n",
       "590 1291.5         2.35232  2.10639  \n",
       "28  1406.0         1.89853  2.39857  \n",
       "165 1201.0         1.86395  2.56410  \n",
       "405  661.0         1.54199  0.37991  \n",
       "655   44.0         1.36549  5.08475  \n",
       "657 1151.0         1.35188  0.71673  \n",
       "417 1258.0         1.33722  1.65950  \n",
       "567 1408.0         1.21735  2.75229  \n",
       "569 1410.0         1.16266  1.86916  \n",
       "169 1188.0         1.15791  0.62772  \n",
       "574 1332.0         1.01609  1.76135  \n",
       "312 1062.0         0.96333  0.45496  \n",
       "578  916.5         0.92845  3.38409  \n",
       "494 1340.0         0.91015  0.00000  \n",
       "448 1284.0         0.90786  0.91040  \n",
       "⋮   ⋮             ⋮        ⋮         \n",
       "212 1406.0         0.53410  0.68370  \n",
       "211 1392.0         0.55741  1.10865  \n",
       "397 1422.0         0.58250  0.38081  \n",
       "682 1140.0         0.61745  2.12766  \n",
       "251 1359.5         0.61881  1.54650  \n",
       "321  401.5         0.62752  0.39630  \n",
       "313 1320.0         0.65224  0.40559  \n",
       "114 1403.5         0.82653  2.22606  \n",
       "64  1181.0         0.93077  1.07215  \n",
       "341 1418.0         0.93873  0.83885  \n",
       "663  313.0         0.98228  0.96154  \n",
       "286 1374.0         0.99901  1.26984  \n",
       "406 1094.5         1.06626  1.38340  \n",
       "43  1227.0         1.14069  0.00000  \n",
       "217 1194.5         1.37488  1.84544  \n",
       "268 1432.0         1.47061  0.52595  \n",
       "154  316.0         1.56394  5.60876  \n",
       "199 1151.0         2.08228  0.00000  \n",
       "94  1307.0         2.10804  6.32911  \n",
       "44  1210.0         2.36535 10.04685  \n",
       "490 1341.0         3.38176  1.55729  \n",
       "587 1178.0         3.53554  3.60231  \n",
       "522 1184.0         4.93200  6.88493  \n",
       "557 1401.5         5.52015  0.77821  \n",
       "132  358.0         6.99614  0.81710  \n",
       "36   770.0         8.94814  0.44366  \n",
       "108  399.0        11.77143 11.77143  \n",
       "634  974.0        16.15120 16.15120  \n",
       "127  315.0        23.62093 23.62093  \n",
       "599  726.5        52.01215 52.01215  "
      ]
     },
     "metadata": {},
     "output_type": "display_data"
    }
   ],
   "source": [
    "#diff(as.integer(df_5w15$bit_score_15),as.integer(df_5w10$bit_score_10))\n",
    "#sum(as.integer(df$bit_score_15)+as.integer(df$bit_score_10))\n",
    "df<-transform(df, dif_mean=abs(round(((mean_bit_score_15-mean_bit_score_10)/(mean_bit_score_15+mean_bit_score_10)*100),5)))\n",
    "df<-transform(df, dif_median=abs(round(((median_bit_score_15-median_bit_score_10)/(median_bit_score_15+median_bit_score_10)*100),5)))\n",
    "df\n"
   ]
  },
  {
   "cell_type": "code",
   "execution_count": 25,
   "metadata": {},
   "outputs": [],
   "source": [
    "df_mean <- df[order(-df$dif_mean),]\n",
    "df_median <- df[order(-df$dif_median),]"
   ]
  },
  {
   "cell_type": "code",
   "execution_count": 44,
   "metadata": {},
   "outputs": [
    {
     "data": {
      "text/html": [
       "<table>\n",
       "<thead><tr><th></th><th scope=col>taxid</th><th scope=col>count_10</th><th scope=col>mean_bit_score_10</th><th scope=col>median_bit_score_10</th><th scope=col>mean_len_10</th><th scope=col>median_len_10</th><th scope=col>count_15</th><th scope=col>mean_bit_score_15</th><th scope=col>median_bit_score_15</th><th scope=col>mean_len_15</th><th scope=col>median_len_15</th><th scope=col>dif_mean</th><th scope=col>dif_median</th></tr></thead>\n",
       "<tbody>\n",
       "\t<tr><th scope=row>599</th><td>1432052  </td><td> 1       </td><td> 158.0000</td><td> 158.0   </td><td> 132.0000</td><td> 132.0   </td><td> 2       </td><td> 500.5000</td><td> 500.5   </td><td> 726.5000</td><td> 726.5   </td><td>52.01215 </td><td>52.01215 </td></tr>\n",
       "\t<tr><th scope=row>263</th><td>  91061  </td><td> 2       </td><td> 283.0000</td><td> 283.0   </td><td> 411.0000</td><td> 411.0   </td><td> 1       </td><td> 100.0000</td><td> 100.0   </td><td>  58.0000</td><td>  58.0   </td><td>47.78068 </td><td>47.78068 </td></tr>\n",
       "\t<tr><th scope=row>127</th><td>  28221  </td><td> 1       </td><td> 135.0000</td><td> 135.0   </td><td> 164.0000</td><td> 164.0   </td><td> 2       </td><td> 218.5000</td><td> 218.5   </td><td> 315.0000</td><td> 315.0   </td><td>23.62093 </td><td>23.62093 </td></tr>\n",
       "\t<tr><th scope=row>395</th><td> 338193  </td><td> 1       </td><td> 279.0000</td><td> 279.0   </td><td> 504.0000</td><td> 504.0   </td><td> 2       </td><td> 200.0000</td><td> 200.0   </td><td> 415.0000</td><td> 415.0   </td><td>16.49269 </td><td>16.49269 </td></tr>\n",
       "\t<tr><th scope=row>634</th><td>1648214  </td><td> 1       </td><td> 549.0000</td><td> 549.0   </td><td> 773.0000</td><td> 773.0   </td><td> 2       </td><td> 760.5000</td><td> 760.5   </td><td> 974.0000</td><td> 974.0   </td><td>16.15120 </td><td>16.15120 </td></tr>\n",
       "\t<tr><th scope=row>108</th><td>   1730  </td><td> 1       </td><td> 193.0000</td><td> 193.0   </td><td> 306.0000</td><td> 306.0   </td><td> 2       </td><td> 244.5000</td><td> 244.5   </td><td> 399.0000</td><td> 399.0   </td><td>11.77143 </td><td>11.77143 </td></tr>\n",
       "\t<tr><th scope=row>41</th><td>   1302  </td><td> 3       </td><td>1217.6667</td><td>1275.0   </td><td>1239.0000</td><td>1379.0   </td><td> 2       </td><td> 977.5000</td><td> 977.5   </td><td>1139.0000</td><td>1139.0   </td><td>10.94070 </td><td>13.20755 </td></tr>\n",
       "\t<tr><th scope=row>265</th><td>  94868  </td><td>12       </td><td> 663.9167</td><td> 557.5   </td><td> 780.6667</td><td> 651.5   </td><td>11       </td><td> 533.1818</td><td> 298.0   </td><td> 619.0000</td><td> 366.0   </td><td>10.92098 </td><td>30.33314 </td></tr>\n",
       "\t<tr><th scope=row>252</th><td>  84037  </td><td>14       </td><td> 498.3571</td><td> 377.5   </td><td> 740.5714</td><td> 658.0   </td><td>12       </td><td> 407.4167</td><td> 269.0   </td><td> 645.8333</td><td> 299.5   </td><td>10.04009 </td><td>16.78268 </td></tr>\n",
       "\t<tr><th scope=row>36</th><td>   1267  </td><td> 8       </td><td> 557.2500</td><td> 561.0   </td><td> 677.7500</td><td> 698.0   </td><td> 9       </td><td> 666.7778</td><td> 566.0   </td><td> 754.8889</td><td> 770.0   </td><td> 8.94814 </td><td> 0.44366 </td></tr>\n",
       "\t<tr><th scope=row>176</th><td>  37659  </td><td> 8       </td><td> 729.2500</td><td> 841.0   </td><td> 925.5000</td><td>1133.5   </td><td> 7       </td><td> 611.4286</td><td> 640.0   </td><td> 824.0000</td><td> 956.0   </td><td> 8.78819 </td><td>13.57191 </td></tr>\n",
       "\t<tr><th scope=row>132</th><td>  29347  </td><td>20       </td><td> 471.2200</td><td> 394.5   </td><td> 495.6000</td><td> 358.0   </td><td>21       </td><td> 542.1143</td><td> 401.0   </td><td> 559.9524</td><td> 358.0   </td><td> 6.99614 </td><td> 0.81710 </td></tr>\n",
       "\t<tr><th scope=row>139</th><td>  29364  </td><td> 3       </td><td> 822.3333</td><td> 767.0   </td><td>1228.0000</td><td>1439.0   </td><td> 4       </td><td> 719.7500</td><td> 688.5   </td><td>1102.7500</td><td>1116.5   </td><td> 6.65226 </td><td> 5.39334 </td></tr>\n",
       "\t<tr><th scope=row>181</th><td>  38304  </td><td> 5       </td><td>1213.6000</td><td>1175.0   </td><td>1164.4000</td><td>1316.0   </td><td> 4       </td><td>1068.0000</td><td>1021.0   </td><td>1118.0000</td><td>1232.0   </td><td> 6.38149 </td><td> 7.01275 </td></tr>\n",
       "\t<tr><th scope=row>413</th><td> 371674  </td><td> 4       </td><td> 692.2500</td><td> 664.5   </td><td>1044.7500</td><td>1178.5   </td><td> 3       </td><td> 612.0000</td><td> 518.0   </td><td>1007.0000</td><td>1199.0   </td><td> 6.15296 </td><td>12.38901 </td></tr>\n",
       "\t<tr><th scope=row>557</th><td>1211817  </td><td>14       </td><td> 771.2143</td><td> 892.5   </td><td>1116.0000</td><td>1400.0   </td><td>12       </td><td> 861.3333</td><td> 906.5   </td><td>1228.5833</td><td>1401.5   </td><td> 5.52015 </td><td> 0.77821 </td></tr>\n",
       "\t<tr><th scope=row>617</th><td>1506553  </td><td>39       </td><td> 903.0000</td><td>1011.0   </td><td>1082.3077</td><td>1337.0   </td><td>34       </td><td> 816.4118</td><td> 901.5   </td><td>1005.0294</td><td>1243.0   </td><td> 5.03592 </td><td> 5.72549 </td></tr>\n",
       "\t<tr><th scope=row>522</th><td>1096246  </td><td> 2       </td><td> 483.5000</td><td> 483.5   </td><td>1200.5000</td><td>1200.5   </td><td> 3       </td><td> 533.6667</td><td> 555.0   </td><td>1171.6667</td><td>1184.0   </td><td> 4.93200 </td><td> 6.88493 </td></tr>\n",
       "\t<tr><th scope=row>539</th><td>1157312  </td><td> 8       </td><td> 629.3750</td><td> 584.0   </td><td>1026.5000</td><td>1174.5   </td><td> 7       </td><td> 580.1429</td><td> 556.0   </td><td>1005.7143</td><td>1175.0   </td><td> 4.07039 </td><td> 2.45614 </td></tr>\n",
       "\t<tr><th scope=row>645</th><td>1720294  </td><td> 4       </td><td> 765.7500</td><td> 863.0   </td><td>1036.7500</td><td>1176.0   </td><td> 3       </td><td> 707.0000</td><td> 784.0   </td><td> 986.0000</td><td>1163.0   </td><td> 3.98914 </td><td> 4.79660 </td></tr>\n",
       "\t<tr><th scope=row>44</th><td>   1305  </td><td> 4       </td><td> 856.5000</td><td> 864.0   </td><td> 967.7500</td><td>1027.0   </td><td> 5       </td><td> 898.0000</td><td>1057.0   </td><td>1045.8000</td><td>1210.0   </td><td> 2.36535 </td><td>10.04685 </td></tr>\n",
       "\t<tr><th scope=row>279</th><td> 115544  </td><td> 8       </td><td> 849.2500</td><td> 873.5   </td><td>1155.6250</td><td>1235.5   </td><td> 7       </td><td> 791.1429</td><td> 760.0   </td><td>1118.8571</td><td>1189.0   </td><td> 3.54227 </td><td> 6.94827 </td></tr>\n",
       "\t<tr><th scope=row>94</th><td>   1561  </td><td>18       </td><td> 884.8889</td><td> 925.0   </td><td>1046.3889</td><td>1231.0   </td><td>19       </td><td> 923.0000</td><td>1050.0   </td><td>1065.1053</td><td>1307.0   </td><td> 2.10804 </td><td> 6.32911 </td></tr>\n",
       "\t<tr><th scope=row>154</th><td>  33034  </td><td> 6       </td><td> 178.3333</td><td> 172.5   </td><td> 319.3333</td><td> 307.0   </td><td> 5       </td><td> 184.0000</td><td> 193.0   </td><td> 323.6000</td><td> 316.0   </td><td> 1.56394 </td><td> 5.60876 </td></tr>\n",
       "\t<tr><th scope=row>376</th><td> 290052  </td><td> 7       </td><td> 702.0000</td><td> 726.0   </td><td> 933.0000</td><td>1202.0   </td><td> 6       </td><td> 708.6667</td><td> 812.0   </td><td> 957.0000</td><td>1208.0   </td><td> 0.47259 </td><td> 5.59168 </td></tr>\n",
       "</tbody>\n",
       "</table>\n"
      ],
      "text/latex": [
       "\\begin{tabular}{r|lllllllllllll}\n",
       "  & taxid & count\\_10 & mean\\_bit\\_score\\_10 & median\\_bit\\_score\\_10 & mean\\_len\\_10 & median\\_len\\_10 & count\\_15 & mean\\_bit\\_score\\_15 & median\\_bit\\_score\\_15 & mean\\_len\\_15 & median\\_len\\_15 & dif\\_mean & dif\\_median\\\\\n",
       "\\hline\n",
       "\t599 & 1432052   &  1        &  158.0000 &  158.0    &  132.0000 &  132.0    &  2        &  500.5000 &  500.5    &  726.5000 &  726.5    & 52.01215  & 52.01215 \\\\\n",
       "\t263 &   91061   &  2        &  283.0000 &  283.0    &  411.0000 &  411.0    &  1        &  100.0000 &  100.0    &   58.0000 &   58.0    & 47.78068  & 47.78068 \\\\\n",
       "\t127 &   28221   &  1        &  135.0000 &  135.0    &  164.0000 &  164.0    &  2        &  218.5000 &  218.5    &  315.0000 &  315.0    & 23.62093  & 23.62093 \\\\\n",
       "\t395 &  338193   &  1        &  279.0000 &  279.0    &  504.0000 &  504.0    &  2        &  200.0000 &  200.0    &  415.0000 &  415.0    & 16.49269  & 16.49269 \\\\\n",
       "\t634 & 1648214   &  1        &  549.0000 &  549.0    &  773.0000 &  773.0    &  2        &  760.5000 &  760.5    &  974.0000 &  974.0    & 16.15120  & 16.15120 \\\\\n",
       "\t108 &    1730   &  1        &  193.0000 &  193.0    &  306.0000 &  306.0    &  2        &  244.5000 &  244.5    &  399.0000 &  399.0    & 11.77143  & 11.77143 \\\\\n",
       "\t41 &    1302   &  3        & 1217.6667 & 1275.0    & 1239.0000 & 1379.0    &  2        &  977.5000 &  977.5    & 1139.0000 & 1139.0    & 10.94070  & 13.20755 \\\\\n",
       "\t265 &   94868   & 12        &  663.9167 &  557.5    &  780.6667 &  651.5    & 11        &  533.1818 &  298.0    &  619.0000 &  366.0    & 10.92098  & 30.33314 \\\\\n",
       "\t252 &   84037   & 14        &  498.3571 &  377.5    &  740.5714 &  658.0    & 12        &  407.4167 &  269.0    &  645.8333 &  299.5    & 10.04009  & 16.78268 \\\\\n",
       "\t36 &    1267   &  8        &  557.2500 &  561.0    &  677.7500 &  698.0    &  9        &  666.7778 &  566.0    &  754.8889 &  770.0    &  8.94814  &  0.44366 \\\\\n",
       "\t176 &   37659   &  8        &  729.2500 &  841.0    &  925.5000 & 1133.5    &  7        &  611.4286 &  640.0    &  824.0000 &  956.0    &  8.78819  & 13.57191 \\\\\n",
       "\t132 &   29347   & 20        &  471.2200 &  394.5    &  495.6000 &  358.0    & 21        &  542.1143 &  401.0    &  559.9524 &  358.0    &  6.99614  &  0.81710 \\\\\n",
       "\t139 &   29364   &  3        &  822.3333 &  767.0    & 1228.0000 & 1439.0    &  4        &  719.7500 &  688.5    & 1102.7500 & 1116.5    &  6.65226  &  5.39334 \\\\\n",
       "\t181 &   38304   &  5        & 1213.6000 & 1175.0    & 1164.4000 & 1316.0    &  4        & 1068.0000 & 1021.0    & 1118.0000 & 1232.0    &  6.38149  &  7.01275 \\\\\n",
       "\t413 &  371674   &  4        &  692.2500 &  664.5    & 1044.7500 & 1178.5    &  3        &  612.0000 &  518.0    & 1007.0000 & 1199.0    &  6.15296  & 12.38901 \\\\\n",
       "\t557 & 1211817   & 14        &  771.2143 &  892.5    & 1116.0000 & 1400.0    & 12        &  861.3333 &  906.5    & 1228.5833 & 1401.5    &  5.52015  &  0.77821 \\\\\n",
       "\t617 & 1506553   & 39        &  903.0000 & 1011.0    & 1082.3077 & 1337.0    & 34        &  816.4118 &  901.5    & 1005.0294 & 1243.0    &  5.03592  &  5.72549 \\\\\n",
       "\t522 & 1096246   &  2        &  483.5000 &  483.5    & 1200.5000 & 1200.5    &  3        &  533.6667 &  555.0    & 1171.6667 & 1184.0    &  4.93200  &  6.88493 \\\\\n",
       "\t539 & 1157312   &  8        &  629.3750 &  584.0    & 1026.5000 & 1174.5    &  7        &  580.1429 &  556.0    & 1005.7143 & 1175.0    &  4.07039  &  2.45614 \\\\\n",
       "\t645 & 1720294   &  4        &  765.7500 &  863.0    & 1036.7500 & 1176.0    &  3        &  707.0000 &  784.0    &  986.0000 & 1163.0    &  3.98914  &  4.79660 \\\\\n",
       "\t44 &    1305   &  4        &  856.5000 &  864.0    &  967.7500 & 1027.0    &  5        &  898.0000 & 1057.0    & 1045.8000 & 1210.0    &  2.36535  & 10.04685 \\\\\n",
       "\t279 &  115544   &  8        &  849.2500 &  873.5    & 1155.6250 & 1235.5    &  7        &  791.1429 &  760.0    & 1118.8571 & 1189.0    &  3.54227  &  6.94827 \\\\\n",
       "\t94 &    1561   & 18        &  884.8889 &  925.0    & 1046.3889 & 1231.0    & 19        &  923.0000 & 1050.0    & 1065.1053 & 1307.0    &  2.10804  &  6.32911 \\\\\n",
       "\t154 &   33034   &  6        &  178.3333 &  172.5    &  319.3333 &  307.0    &  5        &  184.0000 &  193.0    &  323.6000 &  316.0    &  1.56394  &  5.60876 \\\\\n",
       "\t376 &  290052   &  7        &  702.0000 &  726.0    &  933.0000 & 1202.0    &  6        &  708.6667 &  812.0    &  957.0000 & 1208.0    &  0.47259  &  5.59168 \\\\\n",
       "\\end{tabular}\n"
      ],
      "text/markdown": [
       "\n",
       "| <!--/--> | taxid | count_10 | mean_bit_score_10 | median_bit_score_10 | mean_len_10 | median_len_10 | count_15 | mean_bit_score_15 | median_bit_score_15 | mean_len_15 | median_len_15 | dif_mean | dif_median | \n",
       "|---|---|---|---|---|---|---|---|---|---|---|---|---|---|---|---|---|---|---|---|---|---|---|---|---|\n",
       "| 599 | 1432052   |  1        |  158.0000 |  158.0    |  132.0000 |  132.0    |  2        |  500.5000 |  500.5    |  726.5000 |  726.5    | 52.01215  | 52.01215  | \n",
       "| 263 |   91061   |  2        |  283.0000 |  283.0    |  411.0000 |  411.0    |  1        |  100.0000 |  100.0    |   58.0000 |   58.0    | 47.78068  | 47.78068  | \n",
       "| 127 |   28221   |  1        |  135.0000 |  135.0    |  164.0000 |  164.0    |  2        |  218.5000 |  218.5    |  315.0000 |  315.0    | 23.62093  | 23.62093  | \n",
       "| 395 |  338193   |  1        |  279.0000 |  279.0    |  504.0000 |  504.0    |  2        |  200.0000 |  200.0    |  415.0000 |  415.0    | 16.49269  | 16.49269  | \n",
       "| 634 | 1648214   |  1        |  549.0000 |  549.0    |  773.0000 |  773.0    |  2        |  760.5000 |  760.5    |  974.0000 |  974.0    | 16.15120  | 16.15120  | \n",
       "| 108 |    1730   |  1        |  193.0000 |  193.0    |  306.0000 |  306.0    |  2        |  244.5000 |  244.5    |  399.0000 |  399.0    | 11.77143  | 11.77143  | \n",
       "| 41 |    1302   |  3        | 1217.6667 | 1275.0    | 1239.0000 | 1379.0    |  2        |  977.5000 |  977.5    | 1139.0000 | 1139.0    | 10.94070  | 13.20755  | \n",
       "| 265 |   94868   | 12        |  663.9167 |  557.5    |  780.6667 |  651.5    | 11        |  533.1818 |  298.0    |  619.0000 |  366.0    | 10.92098  | 30.33314  | \n",
       "| 252 |   84037   | 14        |  498.3571 |  377.5    |  740.5714 |  658.0    | 12        |  407.4167 |  269.0    |  645.8333 |  299.5    | 10.04009  | 16.78268  | \n",
       "| 36 |    1267   |  8        |  557.2500 |  561.0    |  677.7500 |  698.0    |  9        |  666.7778 |  566.0    |  754.8889 |  770.0    |  8.94814  |  0.44366  | \n",
       "| 176 |   37659   |  8        |  729.2500 |  841.0    |  925.5000 | 1133.5    |  7        |  611.4286 |  640.0    |  824.0000 |  956.0    |  8.78819  | 13.57191  | \n",
       "| 132 |   29347   | 20        |  471.2200 |  394.5    |  495.6000 |  358.0    | 21        |  542.1143 |  401.0    |  559.9524 |  358.0    |  6.99614  |  0.81710  | \n",
       "| 139 |   29364   |  3        |  822.3333 |  767.0    | 1228.0000 | 1439.0    |  4        |  719.7500 |  688.5    | 1102.7500 | 1116.5    |  6.65226  |  5.39334  | \n",
       "| 181 |   38304   |  5        | 1213.6000 | 1175.0    | 1164.4000 | 1316.0    |  4        | 1068.0000 | 1021.0    | 1118.0000 | 1232.0    |  6.38149  |  7.01275  | \n",
       "| 413 |  371674   |  4        |  692.2500 |  664.5    | 1044.7500 | 1178.5    |  3        |  612.0000 |  518.0    | 1007.0000 | 1199.0    |  6.15296  | 12.38901  | \n",
       "| 557 | 1211817   | 14        |  771.2143 |  892.5    | 1116.0000 | 1400.0    | 12        |  861.3333 |  906.5    | 1228.5833 | 1401.5    |  5.52015  |  0.77821  | \n",
       "| 617 | 1506553   | 39        |  903.0000 | 1011.0    | 1082.3077 | 1337.0    | 34        |  816.4118 |  901.5    | 1005.0294 | 1243.0    |  5.03592  |  5.72549  | \n",
       "| 522 | 1096246   |  2        |  483.5000 |  483.5    | 1200.5000 | 1200.5    |  3        |  533.6667 |  555.0    | 1171.6667 | 1184.0    |  4.93200  |  6.88493  | \n",
       "| 539 | 1157312   |  8        |  629.3750 |  584.0    | 1026.5000 | 1174.5    |  7        |  580.1429 |  556.0    | 1005.7143 | 1175.0    |  4.07039  |  2.45614  | \n",
       "| 645 | 1720294   |  4        |  765.7500 |  863.0    | 1036.7500 | 1176.0    |  3        |  707.0000 |  784.0    |  986.0000 | 1163.0    |  3.98914  |  4.79660  | \n",
       "| 44 |    1305   |  4        |  856.5000 |  864.0    |  967.7500 | 1027.0    |  5        |  898.0000 | 1057.0    | 1045.8000 | 1210.0    |  2.36535  | 10.04685  | \n",
       "| 279 |  115544   |  8        |  849.2500 |  873.5    | 1155.6250 | 1235.5    |  7        |  791.1429 |  760.0    | 1118.8571 | 1189.0    |  3.54227  |  6.94827  | \n",
       "| 94 |    1561   | 18        |  884.8889 |  925.0    | 1046.3889 | 1231.0    | 19        |  923.0000 | 1050.0    | 1065.1053 | 1307.0    |  2.10804  |  6.32911  | \n",
       "| 154 |   33034   |  6        |  178.3333 |  172.5    |  319.3333 |  307.0    |  5        |  184.0000 |  193.0    |  323.6000 |  316.0    |  1.56394  |  5.60876  | \n",
       "| 376 |  290052   |  7        |  702.0000 |  726.0    |  933.0000 | 1202.0    |  6        |  708.6667 |  812.0    |  957.0000 | 1208.0    |  0.47259  |  5.59168  | \n",
       "\n",
       "\n"
      ],
      "text/plain": [
       "    taxid   count_10 mean_bit_score_10 median_bit_score_10 mean_len_10\n",
       "599 1432052  1        158.0000          158.0               132.0000  \n",
       "263   91061  2        283.0000          283.0               411.0000  \n",
       "127   28221  1        135.0000          135.0               164.0000  \n",
       "395  338193  1        279.0000          279.0               504.0000  \n",
       "634 1648214  1        549.0000          549.0               773.0000  \n",
       "108    1730  1        193.0000          193.0               306.0000  \n",
       "41     1302  3       1217.6667         1275.0              1239.0000  \n",
       "265   94868 12        663.9167          557.5               780.6667  \n",
       "252   84037 14        498.3571          377.5               740.5714  \n",
       "36     1267  8        557.2500          561.0               677.7500  \n",
       "176   37659  8        729.2500          841.0               925.5000  \n",
       "132   29347 20        471.2200          394.5               495.6000  \n",
       "139   29364  3        822.3333          767.0              1228.0000  \n",
       "181   38304  5       1213.6000         1175.0              1164.4000  \n",
       "413  371674  4        692.2500          664.5              1044.7500  \n",
       "557 1211817 14        771.2143          892.5              1116.0000  \n",
       "617 1506553 39        903.0000         1011.0              1082.3077  \n",
       "522 1096246  2        483.5000          483.5              1200.5000  \n",
       "539 1157312  8        629.3750          584.0              1026.5000  \n",
       "645 1720294  4        765.7500          863.0              1036.7500  \n",
       "44     1305  4        856.5000          864.0               967.7500  \n",
       "279  115544  8        849.2500          873.5              1155.6250  \n",
       "94     1561 18        884.8889          925.0              1046.3889  \n",
       "154   33034  6        178.3333          172.5               319.3333  \n",
       "376  290052  7        702.0000          726.0               933.0000  \n",
       "    median_len_10 count_15 mean_bit_score_15 median_bit_score_15 mean_len_15\n",
       "599  132.0         2        500.5000          500.5               726.5000  \n",
       "263  411.0         1        100.0000          100.0                58.0000  \n",
       "127  164.0         2        218.5000          218.5               315.0000  \n",
       "395  504.0         2        200.0000          200.0               415.0000  \n",
       "634  773.0         2        760.5000          760.5               974.0000  \n",
       "108  306.0         2        244.5000          244.5               399.0000  \n",
       "41  1379.0         2        977.5000          977.5              1139.0000  \n",
       "265  651.5        11        533.1818          298.0               619.0000  \n",
       "252  658.0        12        407.4167          269.0               645.8333  \n",
       "36   698.0         9        666.7778          566.0               754.8889  \n",
       "176 1133.5         7        611.4286          640.0               824.0000  \n",
       "132  358.0        21        542.1143          401.0               559.9524  \n",
       "139 1439.0         4        719.7500          688.5              1102.7500  \n",
       "181 1316.0         4       1068.0000         1021.0              1118.0000  \n",
       "413 1178.5         3        612.0000          518.0              1007.0000  \n",
       "557 1400.0        12        861.3333          906.5              1228.5833  \n",
       "617 1337.0        34        816.4118          901.5              1005.0294  \n",
       "522 1200.5         3        533.6667          555.0              1171.6667  \n",
       "539 1174.5         7        580.1429          556.0              1005.7143  \n",
       "645 1176.0         3        707.0000          784.0               986.0000  \n",
       "44  1027.0         5        898.0000         1057.0              1045.8000  \n",
       "279 1235.5         7        791.1429          760.0              1118.8571  \n",
       "94  1231.0        19        923.0000         1050.0              1065.1053  \n",
       "154  307.0         5        184.0000          193.0               323.6000  \n",
       "376 1202.0         6        708.6667          812.0               957.0000  \n",
       "    median_len_15 dif_mean dif_median\n",
       "599  726.5        52.01215 52.01215  \n",
       "263   58.0        47.78068 47.78068  \n",
       "127  315.0        23.62093 23.62093  \n",
       "395  415.0        16.49269 16.49269  \n",
       "634  974.0        16.15120 16.15120  \n",
       "108  399.0        11.77143 11.77143  \n",
       "41  1139.0        10.94070 13.20755  \n",
       "265  366.0        10.92098 30.33314  \n",
       "252  299.5        10.04009 16.78268  \n",
       "36   770.0         8.94814  0.44366  \n",
       "176  956.0         8.78819 13.57191  \n",
       "132  358.0         6.99614  0.81710  \n",
       "139 1116.5         6.65226  5.39334  \n",
       "181 1232.0         6.38149  7.01275  \n",
       "413 1199.0         6.15296 12.38901  \n",
       "557 1401.5         5.52015  0.77821  \n",
       "617 1243.0         5.03592  5.72549  \n",
       "522 1184.0         4.93200  6.88493  \n",
       "539 1175.0         4.07039  2.45614  \n",
       "645 1163.0         3.98914  4.79660  \n",
       "44  1210.0         2.36535 10.04685  \n",
       "279 1189.0         3.54227  6.94827  \n",
       "94  1307.0         2.10804  6.32911  \n",
       "154  316.0         1.56394  5.60876  \n",
       "376 1208.0         0.47259  5.59168  "
      ]
     },
     "metadata": {},
     "output_type": "display_data"
    },
    {
     "data": {
      "text/html": [
       "<ol class=list-inline>\n",
       "\t<li>1432052</li>\n",
       "\t<li>91061</li>\n",
       "\t<li>28221</li>\n",
       "\t<li>338193</li>\n",
       "\t<li>1648214</li>\n",
       "\t<li>1730</li>\n",
       "\t<li>1302</li>\n",
       "\t<li>94868</li>\n",
       "\t<li>84037</li>\n",
       "\t<li>1267</li>\n",
       "\t<li>37659</li>\n",
       "\t<li>29347</li>\n",
       "\t<li>29364</li>\n",
       "\t<li>38304</li>\n",
       "\t<li>371674</li>\n",
       "\t<li>1211817</li>\n",
       "\t<li>1506553</li>\n",
       "\t<li>1096246</li>\n",
       "\t<li>1157312</li>\n",
       "\t<li>1720294</li>\n",
       "\t<li>1305</li>\n",
       "\t<li>115544</li>\n",
       "\t<li>1561</li>\n",
       "\t<li>33034</li>\n",
       "\t<li>290052</li>\n",
       "</ol>\n"
      ],
      "text/latex": [
       "\\begin{enumerate*}\n",
       "\\item 1432052\n",
       "\\item 91061\n",
       "\\item 28221\n",
       "\\item 338193\n",
       "\\item 1648214\n",
       "\\item 1730\n",
       "\\item 1302\n",
       "\\item 94868\n",
       "\\item 84037\n",
       "\\item 1267\n",
       "\\item 37659\n",
       "\\item 29347\n",
       "\\item 29364\n",
       "\\item 38304\n",
       "\\item 371674\n",
       "\\item 1211817\n",
       "\\item 1506553\n",
       "\\item 1096246\n",
       "\\item 1157312\n",
       "\\item 1720294\n",
       "\\item 1305\n",
       "\\item 115544\n",
       "\\item 1561\n",
       "\\item 33034\n",
       "\\item 290052\n",
       "\\end{enumerate*}\n"
      ],
      "text/markdown": [
       "1. 1432052\n",
       "2. 91061\n",
       "3. 28221\n",
       "4. 338193\n",
       "5. 1648214\n",
       "6. 1730\n",
       "7. 1302\n",
       "8. 94868\n",
       "9. 84037\n",
       "10. 1267\n",
       "11. 37659\n",
       "12. 29347\n",
       "13. 29364\n",
       "14. 38304\n",
       "15. 371674\n",
       "16. 1211817\n",
       "17. 1506553\n",
       "18. 1096246\n",
       "19. 1157312\n",
       "20. 1720294\n",
       "21. 1305\n",
       "22. 115544\n",
       "23. 1561\n",
       "24. 33034\n",
       "25. 290052\n",
       "\n",
       "\n"
      ],
      "text/plain": [
       " [1] 1432052   91061   28221  338193 1648214    1730    1302   94868   84037\n",
       "[10]    1267   37659   29347   29364   38304  371674 1211817 1506553 1096246\n",
       "[19] 1157312 1720294    1305  115544    1561   33034  290052"
      ]
     },
     "metadata": {},
     "output_type": "display_data"
    }
   ],
   "source": [
    "a <- df_mean[1:20,]\n",
    "a <- rbind(a,df_median[1:20,])\n",
    "unique(a)\n",
    "unique(a[,1])"
   ]
  },
  {
   "cell_type": "code",
   "execution_count": null,
   "metadata": {},
   "outputs": [],
   "source": []
  },
  {
   "cell_type": "code",
   "execution_count": null,
   "metadata": {},
   "outputs": [],
   "source": []
  },
  {
   "cell_type": "code",
   "execution_count": null,
   "metadata": {},
   "outputs": [],
   "source": []
  },
  {
   "cell_type": "code",
   "execution_count": null,
   "metadata": {},
   "outputs": [],
   "source": []
  },
  {
   "cell_type": "code",
   "execution_count": null,
   "metadata": {},
   "outputs": [],
   "source": []
  }
 ],
 "metadata": {
  "kernelspec": {
   "display_name": "R",
   "language": "R",
   "name": "ir"
  },
  "language_info": {
   "codemirror_mode": "r",
   "file_extension": ".r",
   "mimetype": "text/x-r-source",
   "name": "R",
   "pygments_lexer": "r",
   "version": "3.3.3"
  }
 },
 "nbformat": 4,
 "nbformat_minor": 1
}
